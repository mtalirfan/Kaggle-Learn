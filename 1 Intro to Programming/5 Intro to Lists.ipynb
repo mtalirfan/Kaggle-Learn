{
 "cells": [
  {
   "cell_type": "markdown",
   "id": "3ccc8ec3",
   "metadata": {
    "papermill": {
     "duration": 0.00996,
     "end_time": "2024-07-09T17:24:54.265496",
     "exception": false,
     "start_time": "2024-07-09T17:24:54.255536",
     "status": "completed"
    },
    "tags": []
   },
   "source": [
    "**This notebook is an exercise in the [Intro to Programming](https://www.kaggle.com/learn/intro-to-programming) course.  You can reference the tutorial at [this link](https://www.kaggle.com/alexisbcook/intro-to-lists).**\n",
    "\n",
    "---\n"
   ]
  },
  {
   "cell_type": "markdown",
   "id": "607a80f9",
   "metadata": {
    "papermill": {
     "duration": 0.007859,
     "end_time": "2024-07-09T17:24:54.281655",
     "exception": false,
     "start_time": "2024-07-09T17:24:54.273796",
     "status": "completed"
    },
    "tags": []
   },
   "source": [
    "In the tutorial, you learned how to define and modify Python lists.  In this exercise, you will use your new knowledge to solve several problems.\n",
    "\n",
    "# Set up the notebook\n",
    "\n",
    "Run the next code cell without changes to set up the notebook."
   ]
  },
  {
   "cell_type": "code",
   "execution_count": 1,
   "id": "a65efa6f",
   "metadata": {
    "execution": {
     "iopub.execute_input": "2024-07-09T17:24:54.301341Z",
     "iopub.status.busy": "2024-07-09T17:24:54.300939Z",
     "iopub.status.idle": "2024-07-09T17:24:55.228886Z",
     "shell.execute_reply": "2024-07-09T17:24:55.227333Z"
    },
    "papermill": {
     "duration": 0.940597,
     "end_time": "2024-07-09T17:24:55.231793",
     "exception": false,
     "start_time": "2024-07-09T17:24:54.291196",
     "status": "completed"
    },
    "tags": []
   },
   "outputs": [
    {
     "name": "stdout",
     "output_type": "stream",
     "text": [
      "Setup complete.\n"
     ]
    }
   ],
   "source": [
    "from learntools.core import binder\n",
    "binder.bind(globals())\n",
    "from learntools.intro_to_programming.ex5 import *\n",
    "print('Setup complete.')"
   ]
  },
  {
   "cell_type": "markdown",
   "id": "cd30570f",
   "metadata": {
    "papermill": {
     "duration": 0.007896,
     "end_time": "2024-07-09T17:24:55.248185",
     "exception": false,
     "start_time": "2024-07-09T17:24:55.240289",
     "status": "completed"
    },
    "tags": []
   },
   "source": [
    "# Question 1\n",
    "\n",
    "You own a restaurant with five food dishes, organized in the Python list `menu` below.  One day, you decide to:\n",
    "- remove bean soup (`'bean soup'`) from the menu, and\n",
    "- add roasted beet salad (`'roasted beet salad'`) to the menu.\n",
    "\n",
    "Implement this change to the list below.  While completing this task, \n",
    "- do not change the line that creates the `menu` list.  \n",
    "- your answer should use `.remove()` and `.append()`.  "
   ]
  },
  {
   "cell_type": "code",
   "execution_count": 2,
   "id": "59045a58",
   "metadata": {
    "execution": {
     "iopub.execute_input": "2024-07-09T17:24:55.266738Z",
     "iopub.status.busy": "2024-07-09T17:24:55.266197Z",
     "iopub.status.idle": "2024-07-09T17:24:55.277616Z",
     "shell.execute_reply": "2024-07-09T17:24:55.276404Z"
    },
    "papermill": {
     "duration": 0.023643,
     "end_time": "2024-07-09T17:24:55.280119",
     "exception": false,
     "start_time": "2024-07-09T17:24:55.256476",
     "status": "completed"
    },
    "tags": []
   },
   "outputs": [
    {
     "data": {
      "application/javascript": [
       "parent.postMessage({\"jupyterEvent\": \"custom.exercise_interaction\", \"data\": {\"outcomeType\": 1, \"valueTowardsCompletion\": 0.2, \"interactionType\": 1, \"questionType\": 2, \"questionId\": \"1_FoodMenu\", \"learnToolsVersion\": \"0.3.4\", \"failureMessage\": \"\", \"exceptionClass\": \"\", \"trace\": \"\"}}, \"*\")"
      ],
      "text/plain": [
       "<IPython.core.display.Javascript object>"
      ]
     },
     "metadata": {},
     "output_type": "display_data"
    },
    {
     "data": {
      "text/markdown": [
       "<span style=\"color:#33cc33\">Correct</span>"
      ],
      "text/plain": [
       "Correct"
      ]
     },
     "metadata": {},
     "output_type": "display_data"
    }
   ],
   "source": [
    "# Do not change: Initial menu for your restaurant\n",
    "menu = ['stewed meat with onions', 'bean soup', 'risotto with trout and shrimp',\n",
    "       'fish soup with cream and onion', 'gyro']\n",
    "\n",
    "# TODO: remove 'bean soup', and add 'roasted beet salad' to the end of the menu\n",
    "menu.remove(\"bean soup\")\n",
    "menu.append(\"roasted beet salad\")\n",
    "\n",
    "# Do not change: Check your answer\n",
    "q1.check()"
   ]
  },
  {
   "cell_type": "code",
   "execution_count": 3,
   "id": "2274d0f9",
   "metadata": {
    "execution": {
     "iopub.execute_input": "2024-07-09T17:24:55.300373Z",
     "iopub.status.busy": "2024-07-09T17:24:55.299951Z",
     "iopub.status.idle": "2024-07-09T17:24:55.305343Z",
     "shell.execute_reply": "2024-07-09T17:24:55.304218Z"
    },
    "papermill": {
     "duration": 0.019041,
     "end_time": "2024-07-09T17:24:55.307942",
     "exception": false,
     "start_time": "2024-07-09T17:24:55.288901",
     "status": "completed"
    },
    "tags": []
   },
   "outputs": [],
   "source": [
    "# Uncomment to see a hint\n",
    "#q1.hint()\n",
    "\n",
    "# Uncomment to see the solution\n",
    "#q1.solution()"
   ]
  },
  {
   "cell_type": "markdown",
   "id": "7d6fd9de",
   "metadata": {
    "papermill": {
     "duration": 0.00826,
     "end_time": "2024-07-09T17:24:55.324959",
     "exception": false,
     "start_time": "2024-07-09T17:24:55.316699",
     "status": "completed"
    },
    "tags": []
   },
   "source": [
    "# Question 2\n",
    "\n",
    "The list `num_customers` contains the number of customers who came into your restaurant every day over the last month (which lasted thirty days).  Fill in values for each of the following:\n",
    "- `avg_first_seven` - average number of customers who visited in the first seven days\n",
    "- `avg_last_seven` - average number of customers who visited in the last seven days\n",
    "- `max_month` - number of customers on the day that got the most customers in the last month\n",
    "- `min_month` - number of customers on the day that got the least customers in the last month\n",
    "\n",
    "Answer this question by writing code.  For instance, if you have to find the minimum value in a list, use `min()` instead of scanning for the smallest value and directly filling in a number."
   ]
  },
  {
   "cell_type": "code",
   "execution_count": 4,
   "id": "5003d662",
   "metadata": {
    "execution": {
     "iopub.execute_input": "2024-07-09T17:24:55.344483Z",
     "iopub.status.busy": "2024-07-09T17:24:55.343478Z",
     "iopub.status.idle": "2024-07-09T17:24:55.355275Z",
     "shell.execute_reply": "2024-07-09T17:24:55.354211Z"
    },
    "papermill": {
     "duration": 0.024162,
     "end_time": "2024-07-09T17:24:55.357642",
     "exception": false,
     "start_time": "2024-07-09T17:24:55.333480",
     "status": "completed"
    },
    "tags": []
   },
   "outputs": [
    {
     "data": {
      "application/javascript": [
       "parent.postMessage({\"jupyterEvent\": \"custom.exercise_interaction\", \"data\": {\"outcomeType\": 1, \"valueTowardsCompletion\": 0.2, \"interactionType\": 1, \"questionType\": 1, \"questionId\": \"2_NumCustomers\", \"learnToolsVersion\": \"0.3.4\", \"failureMessage\": \"\", \"exceptionClass\": \"\", \"trace\": \"\"}}, \"*\")"
      ],
      "text/plain": [
       "<IPython.core.display.Javascript object>"
      ]
     },
     "metadata": {},
     "output_type": "display_data"
    },
    {
     "data": {
      "text/markdown": [
       "<span style=\"color:#33cc33\">Correct</span>"
      ],
      "text/plain": [
       "Correct"
      ]
     },
     "metadata": {},
     "output_type": "display_data"
    }
   ],
   "source": [
    "# Do not change: Number of customers each day for the last month\n",
    "num_customers = [137, 147, 135, 128, 170, 174, 165, 146, 126, 159,\n",
    "                 141, 148, 132, 147, 168, 153, 170, 161, 148, 152,\n",
    "                 141, 151, 131, 149, 164, 163, 143, 143, 166, 171]\n",
    "\n",
    "# TODO: Fill in values for the variables below\n",
    "avg_first_seven = sum(num_customers[:7])/7\n",
    "avg_last_seven = sum(num_customers[-7:])/7\n",
    "max_month = max(num_customers)\n",
    "min_month = min(num_customers)\n",
    "\n",
    "# Do not change: Check your answer\n",
    "q2.check()"
   ]
  },
  {
   "cell_type": "code",
   "execution_count": 5,
   "id": "c0e0546b",
   "metadata": {
    "execution": {
     "iopub.execute_input": "2024-07-09T17:24:55.377853Z",
     "iopub.status.busy": "2024-07-09T17:24:55.376856Z",
     "iopub.status.idle": "2024-07-09T17:24:55.381943Z",
     "shell.execute_reply": "2024-07-09T17:24:55.380845Z"
    },
    "papermill": {
     "duration": 0.017961,
     "end_time": "2024-07-09T17:24:55.384441",
     "exception": false,
     "start_time": "2024-07-09T17:24:55.366480",
     "status": "completed"
    },
    "tags": []
   },
   "outputs": [],
   "source": [
    "# Uncomment to see a hint\n",
    "#q2.hint()\n",
    "\n",
    "# Uncomment to see the solution\n",
    "#q2.solution()"
   ]
  },
  {
   "cell_type": "markdown",
   "id": "ee2569e5",
   "metadata": {
    "papermill": {
     "duration": 0.008652,
     "end_time": "2024-07-09T17:24:55.402071",
     "exception": false,
     "start_time": "2024-07-09T17:24:55.393419",
     "status": "completed"
    },
    "tags": []
   },
   "source": [
    "# Question 3\n",
    "\n",
    "In the tutorial, we gave an example of a Python string with information that was better as a list."
   ]
  },
  {
   "cell_type": "code",
   "execution_count": 6,
   "id": "44a8e94c",
   "metadata": {
    "execution": {
     "iopub.execute_input": "2024-07-09T17:24:55.422528Z",
     "iopub.status.busy": "2024-07-09T17:24:55.421456Z",
     "iopub.status.idle": "2024-07-09T17:24:55.427243Z",
     "shell.execute_reply": "2024-07-09T17:24:55.425684Z"
    },
    "papermill": {
     "duration": 0.018666,
     "end_time": "2024-07-09T17:24:55.429788",
     "exception": false,
     "start_time": "2024-07-09T17:24:55.411122",
     "status": "completed"
    },
    "tags": []
   },
   "outputs": [],
   "source": [
    "flowers = \"pink primrose,hard-leaved pocket orchid,canterbury bells,sweet pea,english marigold,tiger lily,moon orchid,bird of paradise,monkshood,globe thistle\""
   ]
  },
  {
   "cell_type": "markdown",
   "id": "cf5cbde3",
   "metadata": {
    "papermill": {
     "duration": 0.008642,
     "end_time": "2024-07-09T17:24:55.447871",
     "exception": false,
     "start_time": "2024-07-09T17:24:55.439229",
     "status": "completed"
    },
    "tags": []
   },
   "source": [
    "You can actually use Python to quickly turn this string into a list with `.split()`.  In the parentheses, we need to provide the character should be used to mark the end of one list item and the beginning of another, and enclose it in quotation marks.  In this case, that character is a comma."
   ]
  },
  {
   "cell_type": "code",
   "execution_count": 7,
   "id": "a747bb04",
   "metadata": {
    "execution": {
     "iopub.execute_input": "2024-07-09T17:24:55.468134Z",
     "iopub.status.busy": "2024-07-09T17:24:55.467708Z",
     "iopub.status.idle": "2024-07-09T17:24:55.474277Z",
     "shell.execute_reply": "2024-07-09T17:24:55.472957Z"
    },
    "papermill": {
     "duration": 0.019333,
     "end_time": "2024-07-09T17:24:55.476655",
     "exception": false,
     "start_time": "2024-07-09T17:24:55.457322",
     "status": "completed"
    },
    "tags": []
   },
   "outputs": [
    {
     "name": "stdout",
     "output_type": "stream",
     "text": [
      "['pink primrose', 'hard-leaved pocket orchid', 'canterbury bells', 'sweet pea', 'english marigold', 'tiger lily', 'moon orchid', 'bird of paradise', 'monkshood', 'globe thistle']\n"
     ]
    }
   ],
   "source": [
    " print(flowers.split(\",\"))"
   ]
  },
  {
   "cell_type": "markdown",
   "id": "96c5e719",
   "metadata": {
    "papermill": {
     "duration": 0.009381,
     "end_time": "2024-07-09T17:24:55.495233",
     "exception": false,
     "start_time": "2024-07-09T17:24:55.485852",
     "status": "completed"
    },
    "tags": []
   },
   "source": [
    "Now it is your turn to try this out!  Create two Python lists:\n",
    "- `letters` should be a Python list where each entry is an uppercase letter of the English alphabet.  For instance, the first two entries should be `\"A\"` and `\"B\"`, and the final two entries should be `\"Y\"` and `\"Z\"`.  Use the string `alphabet` to create this list.\n",
    "- `address` should be a Python list where each row in `address` is a different item in the list.  Currently, each row in `address` is separated by a comma. "
   ]
  },
  {
   "cell_type": "code",
   "execution_count": 8,
   "id": "259c497b",
   "metadata": {
    "execution": {
     "iopub.execute_input": "2024-07-09T17:24:55.516171Z",
     "iopub.status.busy": "2024-07-09T17:24:55.515721Z",
     "iopub.status.idle": "2024-07-09T17:24:55.526244Z",
     "shell.execute_reply": "2024-07-09T17:24:55.525134Z"
    },
    "papermill": {
     "duration": 0.024245,
     "end_time": "2024-07-09T17:24:55.529385",
     "exception": false,
     "start_time": "2024-07-09T17:24:55.505140",
     "status": "completed"
    },
    "tags": []
   },
   "outputs": [
    {
     "data": {
      "application/javascript": [
       "parent.postMessage({\"jupyterEvent\": \"custom.exercise_interaction\", \"data\": {\"outcomeType\": 1, \"valueTowardsCompletion\": 0.2, \"interactionType\": 1, \"questionType\": 1, \"questionId\": \"3_SplitString\", \"learnToolsVersion\": \"0.3.4\", \"failureMessage\": \"\", \"exceptionClass\": \"\", \"trace\": \"\"}}, \"*\")"
      ],
      "text/plain": [
       "<IPython.core.display.Javascript object>"
      ]
     },
     "metadata": {},
     "output_type": "display_data"
    },
    {
     "data": {
      "text/markdown": [
       "<span style=\"color:#33cc33\">Correct</span>"
      ],
      "text/plain": [
       "Correct"
      ]
     },
     "metadata": {},
     "output_type": "display_data"
    }
   ],
   "source": [
    "# DO not change: Define two Python strings\n",
    "alphabet = \"A.B.C.D.E.F.G.H.I.J.K.L.M.N.O.P.Q.R.S.T.U.V.W.X.Y.Z\"\n",
    "address = \"Mr. H. Potter,The cupboard under the Stairs,4 Privet Drive,Little Whinging,Surrey\"\n",
    "\n",
    "# TODO: Convert strings into Python lists\n",
    "letters = alphabet.split(\".\")\n",
    "formatted_address = address.split(\",\")\n",
    "\n",
    "# Do not change: Check your answer\n",
    "q3.check()"
   ]
  },
  {
   "cell_type": "code",
   "execution_count": 9,
   "id": "c8702abb",
   "metadata": {
    "execution": {
     "iopub.execute_input": "2024-07-09T17:24:55.550915Z",
     "iopub.status.busy": "2024-07-09T17:24:55.550022Z",
     "iopub.status.idle": "2024-07-09T17:24:55.554945Z",
     "shell.execute_reply": "2024-07-09T17:24:55.553852Z"
    },
    "papermill": {
     "duration": 0.018396,
     "end_time": "2024-07-09T17:24:55.557427",
     "exception": false,
     "start_time": "2024-07-09T17:24:55.539031",
     "status": "completed"
    },
    "tags": []
   },
   "outputs": [],
   "source": [
    "# Uncomment to see a hint\n",
    "#q3.hint()\n",
    "\n",
    "# Uncomment to see the solution\n",
    "#q3.solution()"
   ]
  },
  {
   "cell_type": "markdown",
   "id": "a456330d",
   "metadata": {
    "papermill": {
     "duration": 0.00934,
     "end_time": "2024-07-09T17:24:55.576624",
     "exception": false,
     "start_time": "2024-07-09T17:24:55.567284",
     "status": "completed"
    },
    "tags": []
   },
   "source": [
    "# Question 4\n",
    "\n",
    "In the Python course, you'll learn all about **list comprehensions**, which allow you to create a list based on the values in another list.  In this question, you'll get a brief preview of how they work.\n",
    "\n",
    "Say we're working with the list below."
   ]
  },
  {
   "cell_type": "code",
   "execution_count": 10,
   "id": "c45517ab",
   "metadata": {
    "execution": {
     "iopub.execute_input": "2024-07-09T17:24:55.598013Z",
     "iopub.status.busy": "2024-07-09T17:24:55.597629Z",
     "iopub.status.idle": "2024-07-09T17:24:55.602997Z",
     "shell.execute_reply": "2024-07-09T17:24:55.601863Z"
    },
    "papermill": {
     "duration": 0.018994,
     "end_time": "2024-07-09T17:24:55.605526",
     "exception": false,
     "start_time": "2024-07-09T17:24:55.586532",
     "status": "completed"
    },
    "tags": []
   },
   "outputs": [],
   "source": [
    "test_ratings = [1, 2, 3, 4, 5]"
   ]
  },
  {
   "cell_type": "markdown",
   "id": "8b54b2f5",
   "metadata": {
    "papermill": {
     "duration": 0.009258,
     "end_time": "2024-07-09T17:24:55.624624",
     "exception": false,
     "start_time": "2024-07-09T17:24:55.615366",
     "status": "completed"
    },
    "tags": []
   },
   "source": [
    "Then we can use this list (`test_ratings`) to create a new list (`test_liked`) where each item has been turned into a boolean, depending on whether or not the item is greater than or equal to four."
   ]
  },
  {
   "cell_type": "code",
   "execution_count": 11,
   "id": "a1903a1b",
   "metadata": {
    "execution": {
     "iopub.execute_input": "2024-07-09T17:24:55.645965Z",
     "iopub.status.busy": "2024-07-09T17:24:55.645500Z",
     "iopub.status.idle": "2024-07-09T17:24:55.651501Z",
     "shell.execute_reply": "2024-07-09T17:24:55.650235Z"
    },
    "papermill": {
     "duration": 0.020301,
     "end_time": "2024-07-09T17:24:55.654538",
     "exception": false,
     "start_time": "2024-07-09T17:24:55.634237",
     "status": "completed"
    },
    "tags": []
   },
   "outputs": [
    {
     "name": "stdout",
     "output_type": "stream",
     "text": [
      "[False, False, False, True, True]\n"
     ]
    }
   ],
   "source": [
    "test_liked = [i>=4 for i in test_ratings]\n",
    "print(test_liked)"
   ]
  },
  {
   "cell_type": "markdown",
   "id": "2372814d",
   "metadata": {
    "papermill": {
     "duration": 0.009369,
     "end_time": "2024-07-09T17:24:55.673739",
     "exception": false,
     "start_time": "2024-07-09T17:24:55.664370",
     "status": "completed"
    },
    "tags": []
   },
   "source": [
    "In this question, you'll use this list comprehension to define a function `percentage_liked()` that takes one argument as input:\n",
    "- `ratings`: list of ratings that people gave to a movie, where each rating is a number between 1-5, inclusive\n",
    "\n",
    "We say someone liked the movie, if they gave a rating of either 4 or 5.  Your function should return the percentage of people who liked the movie.\n",
    "\n",
    "For instance, if we supply a value of `[1, 2, 3, 4, 5, 4, 5, 1]`, then 50% (4/8) of the people liked the movie, and the function should return `0.5`.\n",
    "\n",
    "Part of the function has already been completed for you.  You need only use `list_liked` to calculate `percentage_liked`."
   ]
  },
  {
   "cell_type": "code",
   "execution_count": 12,
   "id": "5c9ea9fa",
   "metadata": {
    "execution": {
     "iopub.execute_input": "2024-07-09T17:24:55.695192Z",
     "iopub.status.busy": "2024-07-09T17:24:55.694764Z",
     "iopub.status.idle": "2024-07-09T17:24:55.706151Z",
     "shell.execute_reply": "2024-07-09T17:24:55.705008Z"
    },
    "papermill": {
     "duration": 0.025219,
     "end_time": "2024-07-09T17:24:55.708865",
     "exception": false,
     "start_time": "2024-07-09T17:24:55.683646",
     "status": "completed"
    },
    "tags": []
   },
   "outputs": [
    {
     "data": {
      "application/javascript": [
       "parent.postMessage({\"jupyterEvent\": \"custom.exercise_interaction\", \"data\": {\"outcomeType\": 1, \"valueTowardsCompletion\": 0.2, \"interactionType\": 1, \"questionType\": 2, \"questionId\": \"4_PercentageLiked\", \"learnToolsVersion\": \"0.3.4\", \"failureMessage\": \"\", \"exceptionClass\": \"\", \"trace\": \"\"}}, \"*\")"
      ],
      "text/plain": [
       "<IPython.core.display.Javascript object>"
      ]
     },
     "metadata": {},
     "output_type": "display_data"
    },
    {
     "data": {
      "text/markdown": [
       "<span style=\"color:#33cc33\">Correct</span>"
      ],
      "text/plain": [
       "Correct"
      ]
     },
     "metadata": {},
     "output_type": "display_data"
    }
   ],
   "source": [
    "\n",
    "def percentage_liked(ratings):\n",
    "    list_liked = [i>=4 for i in ratings]\n",
    "    # TODO: Complete the function\n",
    "    percentage_liked = sum(list_liked) / len(ratings)\n",
    "    return percentage_liked\n",
    "\n",
    "# Do not change: should return 0.5\n",
    "percentage_liked([1, 2, 3, 4, 5, 4, 5, 1])\n",
    "\n",
    "# Do not change: Check your answer\n",
    "q4.check()"
   ]
  },
  {
   "cell_type": "code",
   "execution_count": 13,
   "id": "1bc61688",
   "metadata": {
    "execution": {
     "iopub.execute_input": "2024-07-09T17:24:55.731159Z",
     "iopub.status.busy": "2024-07-09T17:24:55.730687Z",
     "iopub.status.idle": "2024-07-09T17:24:55.736256Z",
     "shell.execute_reply": "2024-07-09T17:24:55.734781Z"
    },
    "papermill": {
     "duration": 0.020066,
     "end_time": "2024-07-09T17:24:55.739242",
     "exception": false,
     "start_time": "2024-07-09T17:24:55.719176",
     "status": "completed"
    },
    "tags": []
   },
   "outputs": [],
   "source": [
    "# Uncomment to see a hint\n",
    "#q4.hint()\n",
    "\n",
    "# Uncomment to see the solution\n",
    "#q4.solution()"
   ]
  },
  {
   "cell_type": "markdown",
   "id": "b85c69cf",
   "metadata": {
    "papermill": {
     "duration": 0.01004,
     "end_time": "2024-07-09T17:24:55.759601",
     "exception": false,
     "start_time": "2024-07-09T17:24:55.749561",
     "status": "completed"
    },
    "tags": []
   },
   "source": [
    "# 🌶️ Question 5\n",
    " \n",
    "Say you're doing analytics for a website.  You need to write a function that returns the percentage growth in the total number of users relative to a specified number of years ago.\n",
    "\n",
    "Your function `percentage_growth()` should take two arguments as input:\n",
    "- `num_users` = Python list with the total number of users each year.  So `num_users[0]` is the total number of users in the first year, `num_users[1]` is the total number of users in the second year, and so on.  The final entry in the list gives the total number of users in the most recently completed year.\n",
    "- `yrs_ago` = number of years to go back in time when calculating the growth percentage\n",
    "\n",
    "For instance, say `num_users = [920344, 1043553, 1204334, 1458996, 1503323, 1593432, 1623463, 1843064, 1930992, 2001078]`.\n",
    "- if `yrs_ago = 1`, we want the function to return a value of about `0.036`. This corresponds to a percentage growth of approximately 3.6%, calculated as (2001078 - 1930992)/1930992.\n",
    "- if `years_ago = 7`, we would want to return approximately `0.66`.  This corresponds to a percentage growth of approximately 66%, calculated as (2001078 - 1204334)/1204334.\n",
    "\n",
    "Your coworker sent you a draft of a function, but it doesn't seem to be doing the correct calculation.  Can you figure out what has gone wrong and make the needed changes?"
   ]
  },
  {
   "cell_type": "code",
   "execution_count": 14,
   "id": "fe881a02",
   "metadata": {
    "execution": {
     "iopub.execute_input": "2024-07-09T17:24:55.782123Z",
     "iopub.status.busy": "2024-07-09T17:24:55.781680Z",
     "iopub.status.idle": "2024-07-09T17:24:55.794701Z",
     "shell.execute_reply": "2024-07-09T17:24:55.793434Z"
    },
    "papermill": {
     "duration": 0.027705,
     "end_time": "2024-07-09T17:24:55.797831",
     "exception": false,
     "start_time": "2024-07-09T17:24:55.770126",
     "status": "completed"
    },
    "tags": []
   },
   "outputs": [
    {
     "name": "stdout",
     "output_type": "stream",
     "text": [
      "0.03629533421163837\n",
      "0.6615639847417742\n"
     ]
    },
    {
     "data": {
      "application/javascript": [
       "parent.postMessage({\"jupyterEvent\": \"custom.exercise_interaction\", \"data\": {\"outcomeType\": 1, \"valueTowardsCompletion\": 0.2, \"interactionType\": 1, \"questionType\": 2, \"questionId\": \"5_WebsiteAnalytics\", \"learnToolsVersion\": \"0.3.4\", \"failureMessage\": \"\", \"exceptionClass\": \"\", \"trace\": \"\"}}, \"*\")"
      ],
      "text/plain": [
       "<IPython.core.display.Javascript object>"
      ]
     },
     "metadata": {},
     "output_type": "display_data"
    },
    {
     "data": {
      "text/markdown": [
       "<span style=\"color:#33cc33\">Correct</span>"
      ],
      "text/plain": [
       "Correct"
      ]
     },
     "metadata": {},
     "output_type": "display_data"
    }
   ],
   "source": [
    "# TODO: Edit the function\n",
    "def percentage_growth(num_users, yrs_ago):\n",
    "    growth = (num_users[len(num_users)-1] - num_users[len(num_users)-yrs_ago-1])/num_users[len(num_users)-yrs_ago-1]\n",
    "    return growth\n",
    "\n",
    "# Do not change: Variable for calculating some test examples\n",
    "num_users_test = [920344, 1043553, 1204334, 1458996, 1503323, 1593432, 1623463, 1843064, 1930992, 2001078]\n",
    "\n",
    "# Do not change: Should return .036\n",
    "print(percentage_growth(num_users_test, 1))\n",
    "\n",
    "# Do not change: Should return 0.66\n",
    "print(percentage_growth(num_users_test, 7))\n",
    "\n",
    "# Do not change: Check your answer\n",
    "q5.check()"
   ]
  },
  {
   "cell_type": "code",
   "execution_count": 15,
   "id": "34b95a0a",
   "metadata": {
    "execution": {
     "iopub.execute_input": "2024-07-09T17:24:55.821229Z",
     "iopub.status.busy": "2024-07-09T17:24:55.820761Z",
     "iopub.status.idle": "2024-07-09T17:24:55.825661Z",
     "shell.execute_reply": "2024-07-09T17:24:55.824491Z"
    },
    "papermill": {
     "duration": 0.019373,
     "end_time": "2024-07-09T17:24:55.828200",
     "exception": false,
     "start_time": "2024-07-09T17:24:55.808827",
     "status": "completed"
    },
    "tags": []
   },
   "outputs": [],
   "source": [
    "# Uncomment to see a hint\n",
    "#q5.hint()\n",
    "\n",
    "# Uncomment to see the solution\n",
    "#q5.solution()"
   ]
  },
  {
   "cell_type": "markdown",
   "id": "c6b0f840",
   "metadata": {
    "papermill": {
     "duration": 0.010138,
     "end_time": "2024-07-09T17:24:55.848908",
     "exception": false,
     "start_time": "2024-07-09T17:24:55.838770",
     "status": "completed"
    },
    "tags": []
   },
   "source": [
    "# Congratulations!\n",
    "\n",
    "Congratulations for finishing the Intro to Programming course!  You should be proud of your very first steps with learning programming.  As next steps, we recommend taking:\n",
    "- the **[Python course](http://www.kaggle.com/learn/python)**, and \n",
    "- the **[Intro to Machine Learning course](https://www.kaggle.com/learn/intro-to-machine-learning)**."
   ]
  },
  {
   "cell_type": "markdown",
   "id": "3e1b649c",
   "metadata": {
    "papermill": {
     "duration": 0.010252,
     "end_time": "2024-07-09T17:24:55.869992",
     "exception": false,
     "start_time": "2024-07-09T17:24:55.859740",
     "status": "completed"
    },
    "tags": []
   },
   "source": [
    "---\n",
    "\n",
    "\n",
    "\n",
    "\n",
    "*Have questions or comments? Visit the [course discussion forum](https://www.kaggle.com/learn/intro-to-programming/discussion) to chat with other learners.*"
   ]
  }
 ],
 "metadata": {
  "kaggle": {
   "accelerator": "none",
   "dataSources": [],
   "isGpuEnabled": false,
   "isInternetEnabled": false,
   "language": "python",
   "sourceType": "notebook"
  },
  "kernelspec": {
   "display_name": "Python 3",
   "language": "python",
   "name": "python3"
  },
  "language_info": {
   "codemirror_mode": {
    "name": "ipython",
    "version": 3
   },
   "file_extension": ".py",
   "mimetype": "text/x-python",
   "name": "python",
   "nbconvert_exporter": "python",
   "pygments_lexer": "ipython3",
   "version": "3.10.13"
  },
  "papermill": {
   "default_parameters": {},
   "duration": 5.255749,
   "end_time": "2024-07-09T17:24:56.402378",
   "environment_variables": {},
   "exception": null,
   "input_path": "__notebook__.ipynb",
   "output_path": "__notebook__.ipynb",
   "parameters": {},
   "start_time": "2024-07-09T17:24:51.146629",
   "version": "2.5.0"
  }
 },
 "nbformat": 4,
 "nbformat_minor": 5
}
