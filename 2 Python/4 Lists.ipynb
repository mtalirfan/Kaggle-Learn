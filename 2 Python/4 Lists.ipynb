{
 "cells": [
  {
   "cell_type": "markdown",
   "id": "f4d9c8a2",
   "metadata": {
    "papermill": {
     "duration": 0.006359,
     "end_time": "2024-07-09T17:33:42.615209",
     "exception": false,
     "start_time": "2024-07-09T17:33:42.608850",
     "status": "completed"
    },
    "tags": []
   },
   "source": [
    "**This notebook is an exercise in the [Python](https://www.kaggle.com/learn/python) course.  You can reference the tutorial at [this link](https://www.kaggle.com/colinmorris/lists).**\n",
    "\n",
    "---\n"
   ]
  },
  {
   "cell_type": "markdown",
   "id": "a18bfc92",
   "metadata": {
    "papermill": {
     "duration": 0.005687,
     "end_time": "2024-07-09T17:33:42.627141",
     "exception": false,
     "start_time": "2024-07-09T17:33:42.621454",
     "status": "completed"
    },
    "tags": []
   },
   "source": [
    "Things get more interesting with lists. You'll apply your new knowledge to solve the questions below. Remember to run the following cell first."
   ]
  },
  {
   "cell_type": "code",
   "execution_count": 1,
   "id": "1467d400",
   "metadata": {
    "execution": {
     "iopub.execute_input": "2024-07-09T17:33:42.640861Z",
     "iopub.status.busy": "2024-07-09T17:33:42.640449Z",
     "iopub.status.idle": "2024-07-09T17:33:43.518559Z",
     "shell.execute_reply": "2024-07-09T17:33:43.517528Z"
    },
    "papermill": {
     "duration": 0.887889,
     "end_time": "2024-07-09T17:33:43.521061",
     "exception": false,
     "start_time": "2024-07-09T17:33:42.633172",
     "status": "completed"
    },
    "tags": []
   },
   "outputs": [
    {
     "name": "stdout",
     "output_type": "stream",
     "text": [
      "Setup complete.\n"
     ]
    }
   ],
   "source": [
    "from learntools.core import binder; binder.bind(globals())\n",
    "from learntools.python.ex4 import *\n",
    "print('Setup complete.')"
   ]
  },
  {
   "cell_type": "markdown",
   "id": "02b9fb22",
   "metadata": {
    "papermill": {
     "duration": 0.005674,
     "end_time": "2024-07-09T17:33:43.532977",
     "exception": false,
     "start_time": "2024-07-09T17:33:43.527303",
     "status": "completed"
    },
    "tags": []
   },
   "source": [
    "# 1.\n",
    "\n",
    "Complete the function below according to its docstring."
   ]
  },
  {
   "cell_type": "code",
   "execution_count": 2,
   "id": "a2cbd3af",
   "metadata": {
    "execution": {
     "iopub.execute_input": "2024-07-09T17:33:43.546735Z",
     "iopub.status.busy": "2024-07-09T17:33:43.546215Z",
     "iopub.status.idle": "2024-07-09T17:33:43.558070Z",
     "shell.execute_reply": "2024-07-09T17:33:43.557014Z"
    },
    "papermill": {
     "duration": 0.021394,
     "end_time": "2024-07-09T17:33:43.560384",
     "exception": false,
     "start_time": "2024-07-09T17:33:43.538990",
     "status": "completed"
    },
    "tags": []
   },
   "outputs": [
    {
     "data": {
      "application/javascript": [
       "parent.postMessage({\"jupyterEvent\": \"custom.exercise_interaction\", \"data\": {\"outcomeType\": 1, \"valueTowardsCompletion\": 0.2, \"interactionType\": 1, \"questionType\": 2, \"questionId\": \"1_SelectSecondItem\", \"learnToolsVersion\": \"0.3.4\", \"failureMessage\": \"\", \"exceptionClass\": \"\", \"trace\": \"\"}}, \"*\")"
      ],
      "text/plain": [
       "<IPython.core.display.Javascript object>"
      ]
     },
     "metadata": {},
     "output_type": "display_data"
    },
    {
     "data": {
      "text/markdown": [
       "<span style=\"color:#33cc33\">Correct</span>"
      ],
      "text/plain": [
       "Correct"
      ]
     },
     "metadata": {},
     "output_type": "display_data"
    }
   ],
   "source": [
    "def select_second(L):\n",
    "    \"\"\"Return the second element of the given list. If the list has no second\n",
    "    element, return None.\n",
    "    \"\"\"\n",
    "    return L[1] if len(L) > 1 else None\n",
    "\n",
    "# Check your answer\n",
    "q1.check()"
   ]
  },
  {
   "cell_type": "code",
   "execution_count": 3,
   "id": "1c71a638",
   "metadata": {
    "execution": {
     "iopub.execute_input": "2024-07-09T17:33:43.575527Z",
     "iopub.status.busy": "2024-07-09T17:33:43.574701Z",
     "iopub.status.idle": "2024-07-09T17:33:43.579733Z",
     "shell.execute_reply": "2024-07-09T17:33:43.578440Z"
    },
    "papermill": {
     "duration": 0.015128,
     "end_time": "2024-07-09T17:33:43.582057",
     "exception": false,
     "start_time": "2024-07-09T17:33:43.566929",
     "status": "completed"
    },
    "tags": []
   },
   "outputs": [],
   "source": [
    "#q1.hint()\n",
    "#q1.solution()"
   ]
  },
  {
   "cell_type": "markdown",
   "id": "c80ee34a",
   "metadata": {
    "papermill": {
     "duration": 0.006292,
     "end_time": "2024-07-09T17:33:43.594975",
     "exception": false,
     "start_time": "2024-07-09T17:33:43.588683",
     "status": "completed"
    },
    "tags": []
   },
   "source": [
    "# 2.\n",
    "\n",
    "You are analyzing sports teams.  Members of each team are stored in a list. The Coach is the first name in the list, the captain is the second name in the list, and other players are listed after that. \n",
    "These lists are stored in another list, which starts with the best team and proceeds through the list to the worst team last.  Complete the function below to select the **captain** of the worst team."
   ]
  },
  {
   "cell_type": "code",
   "execution_count": 4,
   "id": "a9702305",
   "metadata": {
    "execution": {
     "iopub.execute_input": "2024-07-09T17:33:43.609788Z",
     "iopub.status.busy": "2024-07-09T17:33:43.609391Z",
     "iopub.status.idle": "2024-07-09T17:33:43.619111Z",
     "shell.execute_reply": "2024-07-09T17:33:43.618000Z"
    },
    "papermill": {
     "duration": 0.019835,
     "end_time": "2024-07-09T17:33:43.621394",
     "exception": false,
     "start_time": "2024-07-09T17:33:43.601559",
     "status": "completed"
    },
    "tags": []
   },
   "outputs": [
    {
     "data": {
      "application/javascript": [
       "parent.postMessage({\"jupyterEvent\": \"custom.exercise_interaction\", \"data\": {\"outcomeType\": 1, \"valueTowardsCompletion\": 0.2, \"interactionType\": 1, \"questionType\": 2, \"questionId\": \"2_LosingTeamCaptain\", \"learnToolsVersion\": \"0.3.4\", \"failureMessage\": \"\", \"exceptionClass\": \"\", \"trace\": \"\"}}, \"*\")"
      ],
      "text/plain": [
       "<IPython.core.display.Javascript object>"
      ]
     },
     "metadata": {},
     "output_type": "display_data"
    },
    {
     "data": {
      "text/markdown": [
       "<span style=\"color:#33cc33\">Correct</span>"
      ],
      "text/plain": [
       "Correct"
      ]
     },
     "metadata": {},
     "output_type": "display_data"
    }
   ],
   "source": [
    "def losing_team_captain(teams):\n",
    "    \"\"\"Given a list of teams, where each team is a list of names, return the 2nd player (captain)\n",
    "    from the last listed team\n",
    "    \"\"\"\n",
    "    return teams[-1][1]\n",
    "\n",
    "# Check your answer\n",
    "q2.check()"
   ]
  },
  {
   "cell_type": "code",
   "execution_count": 5,
   "id": "9358fa53",
   "metadata": {
    "execution": {
     "iopub.execute_input": "2024-07-09T17:33:43.637229Z",
     "iopub.status.busy": "2024-07-09T17:33:43.636565Z",
     "iopub.status.idle": "2024-07-09T17:33:43.648929Z",
     "shell.execute_reply": "2024-07-09T17:33:43.647971Z"
    },
    "papermill": {
     "duration": 0.022943,
     "end_time": "2024-07-09T17:33:43.651217",
     "exception": false,
     "start_time": "2024-07-09T17:33:43.628274",
     "status": "completed"
    },
    "tags": []
   },
   "outputs": [
    {
     "data": {
      "application/javascript": [
       "parent.postMessage({\"jupyterEvent\": \"custom.exercise_interaction\", \"data\": {\"interactionType\": 2, \"questionType\": 2, \"questionId\": \"2_LosingTeamCaptain\", \"learnToolsVersion\": \"0.3.4\", \"valueTowardsCompletion\": 0.0, \"failureMessage\": \"\", \"exceptionClass\": \"\", \"trace\": \"\", \"outcomeType\": 4}}, \"*\")"
      ],
      "text/plain": [
       "<IPython.core.display.Javascript object>"
      ]
     },
     "metadata": {},
     "output_type": "display_data"
    },
    {
     "data": {
      "text/markdown": [
       "<span style=\"color:#3366cc\">Hint:</span> The last item in a list `L` can be selected with `L[-1]`. The first item in the first sublist would be selected as `L[0][0]`"
      ],
      "text/plain": [
       "Hint: The last item in a list `L` can be selected with `L[-1]`. The first item in the first sublist would be selected as `L[0][0]`"
      ]
     },
     "metadata": {},
     "output_type": "display_data"
    },
    {
     "data": {
      "application/javascript": [
       "parent.postMessage({\"jupyterEvent\": \"custom.exercise_interaction\", \"data\": {\"interactionType\": 3, \"questionType\": 2, \"questionId\": \"2_LosingTeamCaptain\", \"learnToolsVersion\": \"0.3.4\", \"valueTowardsCompletion\": 0.0, \"failureMessage\": \"\", \"exceptionClass\": \"\", \"trace\": \"\", \"outcomeType\": 4}}, \"*\")"
      ],
      "text/plain": [
       "<IPython.core.display.Javascript object>"
      ]
     },
     "metadata": {},
     "output_type": "display_data"
    },
    {
     "data": {
      "text/markdown": [
       "<span style=\"color:#33cc99\">Solution:</span> \n",
       "```python\n",
       "def losing_team_captain(teams):\n",
       "    return teams[-1][1]\n",
       "```"
      ],
      "text/plain": [
       "Solution: \n",
       "```python\n",
       "def losing_team_captain(teams):\n",
       "    return teams[-1][1]\n",
       "```"
      ]
     },
     "metadata": {},
     "output_type": "display_data"
    }
   ],
   "source": [
    "q2.hint()\n",
    "q2.solution()"
   ]
  },
  {
   "cell_type": "markdown",
   "id": "1ca58f75",
   "metadata": {
    "papermill": {
     "duration": 0.007491,
     "end_time": "2024-07-09T17:33:43.666330",
     "exception": false,
     "start_time": "2024-07-09T17:33:43.658839",
     "status": "completed"
    },
    "tags": []
   },
   "source": [
    "# 3.\n",
    "\n",
    "The next iteration of Mario Kart will feature an extra-infuriating new item, the *Purple Shell*. When used, it warps the last place racer into first place and the first place racer into last place. Complete the function below to implement the Purple Shell's effect."
   ]
  },
  {
   "cell_type": "code",
   "execution_count": 6,
   "id": "2ba616c5",
   "metadata": {
    "execution": {
     "iopub.execute_input": "2024-07-09T17:33:43.684313Z",
     "iopub.status.busy": "2024-07-09T17:33:43.683027Z",
     "iopub.status.idle": "2024-07-09T17:33:43.693653Z",
     "shell.execute_reply": "2024-07-09T17:33:43.692512Z"
    },
    "papermill": {
     "duration": 0.022221,
     "end_time": "2024-07-09T17:33:43.696272",
     "exception": false,
     "start_time": "2024-07-09T17:33:43.674051",
     "status": "completed"
    },
    "tags": []
   },
   "outputs": [
    {
     "data": {
      "application/javascript": [
       "parent.postMessage({\"jupyterEvent\": \"custom.exercise_interaction\", \"data\": {\"outcomeType\": 1, \"valueTowardsCompletion\": 0.2, \"interactionType\": 1, \"questionType\": 2, \"questionId\": \"3_PurpleShell\", \"learnToolsVersion\": \"0.3.4\", \"failureMessage\": \"\", \"exceptionClass\": \"\", \"trace\": \"\"}}, \"*\")"
      ],
      "text/plain": [
       "<IPython.core.display.Javascript object>"
      ]
     },
     "metadata": {},
     "output_type": "display_data"
    },
    {
     "data": {
      "text/markdown": [
       "<span style=\"color:#33cc33\">Correct</span>"
      ],
      "text/plain": [
       "Correct"
      ]
     },
     "metadata": {},
     "output_type": "display_data"
    }
   ],
   "source": [
    "def purple_shell(racers):\n",
    "    \"\"\"Given a list of racers, set the first place racer (at the front of the list) to last\n",
    "    place and vice versa.\n",
    "    \n",
    "    >>> r = [\"Mario\", \"Bowser\", \"Luigi\"]\n",
    "    >>> purple_shell(r)\n",
    "    >>> r\n",
    "    [\"Luigi\", \"Bowser\", \"Mario\"]\n",
    "    \"\"\"\n",
    "    racers[0], racers[-1] = racers[-1], racers[0]\n",
    "\n",
    "# Check your answer\n",
    "q3.check()"
   ]
  },
  {
   "cell_type": "code",
   "execution_count": 7,
   "id": "a025dad6",
   "metadata": {
    "execution": {
     "iopub.execute_input": "2024-07-09T17:33:43.714845Z",
     "iopub.status.busy": "2024-07-09T17:33:43.714426Z",
     "iopub.status.idle": "2024-07-09T17:33:43.719343Z",
     "shell.execute_reply": "2024-07-09T17:33:43.718321Z"
    },
    "papermill": {
     "duration": 0.01717,
     "end_time": "2024-07-09T17:33:43.721807",
     "exception": false,
     "start_time": "2024-07-09T17:33:43.704637",
     "status": "completed"
    },
    "tags": []
   },
   "outputs": [],
   "source": [
    "#q3.hint()\n",
    "#q3.solution()"
   ]
  },
  {
   "cell_type": "markdown",
   "id": "988fd242",
   "metadata": {
    "papermill": {
     "duration": 0.008158,
     "end_time": "2024-07-09T17:33:43.738803",
     "exception": false,
     "start_time": "2024-07-09T17:33:43.730645",
     "status": "completed"
    },
    "tags": []
   },
   "source": [
    "# 4.\n",
    "\n",
    "What are the lengths of the following lists? Fill in the variable `lengths` with your predictions. (Try to make a prediction for each list *without* just calling `len()` on it.)"
   ]
  },
  {
   "cell_type": "code",
   "execution_count": 8,
   "id": "8c10e778",
   "metadata": {
    "execution": {
     "iopub.execute_input": "2024-07-09T17:33:43.756895Z",
     "iopub.status.busy": "2024-07-09T17:33:43.756503Z",
     "iopub.status.idle": "2024-07-09T17:33:43.767480Z",
     "shell.execute_reply": "2024-07-09T17:33:43.766376Z"
    },
    "papermill": {
     "duration": 0.023023,
     "end_time": "2024-07-09T17:33:43.770031",
     "exception": false,
     "start_time": "2024-07-09T17:33:43.747008",
     "status": "completed"
    },
    "tags": []
   },
   "outputs": [
    {
     "data": {
      "application/javascript": [
       "parent.postMessage({\"jupyterEvent\": \"custom.exercise_interaction\", \"data\": {\"outcomeType\": 1, \"valueTowardsCompletion\": 0.2, \"interactionType\": 1, \"questionType\": 1, \"questionId\": \"4_UnderstandLen\", \"learnToolsVersion\": \"0.3.4\", \"failureMessage\": \"\", \"exceptionClass\": \"\", \"trace\": \"\"}}, \"*\")"
      ],
      "text/plain": [
       "<IPython.core.display.Javascript object>"
      ]
     },
     "metadata": {},
     "output_type": "display_data"
    },
    {
     "data": {
      "text/markdown": [
       "<span style=\"color:#33cc33\">Correct:</span> \n",
       "\n",
       "\n",
       "- a: There are three items in this list. Nothing tricky yet.\n",
       "- b: The list `[2, 3]` counts as a single item. It has one item before it. So we have 2 items in the list\n",
       "- c: The empty list has 0 items\n",
       "- d: The expression is the same as the list `[2, 3]`, which has length 2."
      ],
      "text/plain": [
       "Correct: \n",
       "\n",
       "\n",
       "- a: There are three items in this list. Nothing tricky yet.\n",
       "- b: The list `[2, 3]` counts as a single item. It has one item before it. So we have 2 items in the list\n",
       "- c: The empty list has 0 items\n",
       "- d: The expression is the same as the list `[2, 3]`, which has length 2."
      ]
     },
     "metadata": {},
     "output_type": "display_data"
    }
   ],
   "source": [
    "a = [1, 2, 3]\n",
    "b = [1, [2, 3]]\n",
    "c = []\n",
    "d = [1, 2, 3][1:]\n",
    "\n",
    "# Put your predictions in the list below. Lengths should contain 4 numbers, the\n",
    "# first being the length of a, the second being the length of b and so on.\n",
    "lengths = [len(a), len(b), len(c), len(d)]\n",
    "\n",
    "# Check your answer\n",
    "q4.check()"
   ]
  },
  {
   "cell_type": "code",
   "execution_count": 9,
   "id": "562d66ca",
   "metadata": {
    "execution": {
     "iopub.execute_input": "2024-07-09T17:33:43.789572Z",
     "iopub.status.busy": "2024-07-09T17:33:43.788517Z",
     "iopub.status.idle": "2024-07-09T17:33:43.793719Z",
     "shell.execute_reply": "2024-07-09T17:33:43.792620Z"
    },
    "papermill": {
     "duration": 0.017544,
     "end_time": "2024-07-09T17:33:43.796287",
     "exception": false,
     "start_time": "2024-07-09T17:33:43.778743",
     "status": "completed"
    },
    "tags": []
   },
   "outputs": [],
   "source": [
    "# line below provides some explanation\n",
    "#q4.solution()"
   ]
  },
  {
   "cell_type": "markdown",
   "id": "c19cf6aa",
   "metadata": {
    "papermill": {
     "duration": 0.008236,
     "end_time": "2024-07-09T17:33:43.813162",
     "exception": false,
     "start_time": "2024-07-09T17:33:43.804926",
     "status": "completed"
    },
    "tags": []
   },
   "source": [
    "# 5. <span title=\"A bit spicy\" style=\"color: darkgreen \">🌶️</span>\n",
    "\n",
    "We're using lists to record people who attended our party and what order they arrived in. For example, the following list represents a party with 7 guests, in which Adela showed up first and Ford was the last to arrive:\n",
    "\n",
    "    party_attendees = ['Adela', 'Fleda', 'Owen', 'May', 'Mona', 'Gilbert', 'Ford']\n",
    "\n",
    "A guest is considered 'fashionably late' if they arrived after at least half of the party's guests. However, they must not be the very last guest (that's taking it too far). In the above example, Mona and Gilbert are the only guests who were fashionably late.\n",
    "\n",
    "Complete the function below which takes a list of party attendees as well as a person, and tells us whether that person is fashionably late."
   ]
  },
  {
   "cell_type": "code",
   "execution_count": 10,
   "id": "4156ff39",
   "metadata": {
    "execution": {
     "iopub.execute_input": "2024-07-09T17:33:43.832696Z",
     "iopub.status.busy": "2024-07-09T17:33:43.831645Z",
     "iopub.status.idle": "2024-07-09T17:33:43.842750Z",
     "shell.execute_reply": "2024-07-09T17:33:43.841386Z"
    },
    "papermill": {
     "duration": 0.023478,
     "end_time": "2024-07-09T17:33:43.845172",
     "exception": false,
     "start_time": "2024-07-09T17:33:43.821694",
     "status": "completed"
    },
    "tags": []
   },
   "outputs": [
    {
     "data": {
      "application/javascript": [
       "parent.postMessage({\"jupyterEvent\": \"custom.exercise_interaction\", \"data\": {\"outcomeType\": 1, \"valueTowardsCompletion\": 0.2, \"interactionType\": 1, \"questionType\": 2, \"questionId\": \"5_FashionablyLate\", \"learnToolsVersion\": \"0.3.4\", \"failureMessage\": \"\", \"exceptionClass\": \"\", \"trace\": \"\"}}, \"*\")"
      ],
      "text/plain": [
       "<IPython.core.display.Javascript object>"
      ]
     },
     "metadata": {},
     "output_type": "display_data"
    },
    {
     "data": {
      "text/markdown": [
       "<span style=\"color:#33cc33\">Correct</span>"
      ],
      "text/plain": [
       "Correct"
      ]
     },
     "metadata": {},
     "output_type": "display_data"
    }
   ],
   "source": [
    "def fashionably_late(arrivals, name):\n",
    "    \"\"\"Given an ordered list of arrivals to the party and a name, return whether the guest with that\n",
    "    name was fashionably late.\n",
    "    \"\"\"\n",
    "    return (arrivals.index(name) >= (len(arrivals) / 2)) and (arrivals.index(name) != (len(arrivals) - 1))\n",
    "\n",
    "# Check your answer\n",
    "q5.check()"
   ]
  },
  {
   "cell_type": "code",
   "execution_count": 11,
   "id": "e4e7c411",
   "metadata": {
    "execution": {
     "iopub.execute_input": "2024-07-09T17:33:43.864837Z",
     "iopub.status.busy": "2024-07-09T17:33:43.864444Z",
     "iopub.status.idle": "2024-07-09T17:33:43.869357Z",
     "shell.execute_reply": "2024-07-09T17:33:43.868190Z"
    },
    "papermill": {
     "duration": 0.017591,
     "end_time": "2024-07-09T17:33:43.871677",
     "exception": false,
     "start_time": "2024-07-09T17:33:43.854086",
     "status": "completed"
    },
    "tags": []
   },
   "outputs": [],
   "source": [
    "#q5.hint()\n",
    "#q5.solution()"
   ]
  },
  {
   "cell_type": "markdown",
   "id": "5e8da50f",
   "metadata": {
    "papermill": {
     "duration": 0.008673,
     "end_time": "2024-07-09T17:33:43.889550",
     "exception": false,
     "start_time": "2024-07-09T17:33:43.880877",
     "status": "completed"
    },
    "tags": []
   },
   "source": [
    "# Keep Going\n",
    "\n",
    "That's it for lists and tuples! Now you have the baseline knowledge to **[learn about loops](https://www.kaggle.com/colinmorris/loops-and-list-comprehensions)**, which is where lists and tuples get really interesting. "
   ]
  },
  {
   "cell_type": "markdown",
   "id": "bb01a3bd",
   "metadata": {
    "papermill": {
     "duration": 0.00858,
     "end_time": "2024-07-09T17:33:43.907713",
     "exception": false,
     "start_time": "2024-07-09T17:33:43.899133",
     "status": "completed"
    },
    "tags": []
   },
   "source": [
    "---\n",
    "\n",
    "\n",
    "\n",
    "\n",
    "*Have questions or comments? Visit the [course discussion forum](https://www.kaggle.com/learn/python/discussion) to chat with other learners.*"
   ]
  }
 ],
 "metadata": {
  "kaggle": {
   "accelerator": "none",
   "dataSources": [],
   "isGpuEnabled": false,
   "isInternetEnabled": false,
   "language": "python",
   "sourceType": "notebook"
  },
  "kernelspec": {
   "display_name": "Python 3",
   "language": "python",
   "name": "python3"
  },
  "language_info": {
   "codemirror_mode": {
    "name": "ipython",
    "version": 3
   },
   "file_extension": ".py",
   "mimetype": "text/x-python",
   "name": "python",
   "nbconvert_exporter": "python",
   "pygments_lexer": "ipython3",
   "version": "3.10.13"
  },
  "learntools_metadata": {
   "lesson_index": 3,
   "type": "exercise"
  },
  "papermill": {
   "default_parameters": {},
   "duration": 4.761632,
   "end_time": "2024-07-09T17:33:44.437332",
   "environment_variables": {},
   "exception": null,
   "input_path": "__notebook__.ipynb",
   "output_path": "__notebook__.ipynb",
   "parameters": {},
   "start_time": "2024-07-09T17:33:39.675700",
   "version": "2.5.0"
  }
 },
 "nbformat": 4,
 "nbformat_minor": 5
}
