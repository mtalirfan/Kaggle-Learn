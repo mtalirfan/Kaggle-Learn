{
 "cells": [
  {
   "cell_type": "markdown",
   "id": "d9fc25fe",
   "metadata": {
    "papermill": {
     "duration": 0.006803,
     "end_time": "2024-07-09T17:29:51.056912",
     "exception": false,
     "start_time": "2024-07-09T17:29:51.050109",
     "status": "completed"
    },
    "tags": []
   },
   "source": [
    "**This notebook is an exercise in the [Python](https://www.kaggle.com/learn/python) course.  You can reference the tutorial at [this link](https://www.kaggle.com/colinmorris/hello-python).**\n",
    "\n",
    "---\n"
   ]
  },
  {
   "cell_type": "markdown",
   "id": "28efb31a",
   "metadata": {
    "papermill": {
     "duration": 0.005999,
     "end_time": "2024-07-09T17:29:51.070144",
     "exception": false,
     "start_time": "2024-07-09T17:29:51.064145",
     "status": "completed"
    },
    "tags": []
   },
   "source": [
    "Welcome to your first set of Python coding problems.  If this is your first time using Kaggle Notebooks, welcome! \n",
    "\n",
    "Notebooks are composed of blocks (called \"cells\") of text and code. Each of these is editable, though you'll mainly be editing the code cells to answer some questions.\n",
    "\n",
    "To get started, try running the code cell below (by pressing the ► button, or clicking on the cell and pressing ctrl+enter on your keyboard)."
   ]
  },
  {
   "cell_type": "code",
   "execution_count": 1,
   "id": "f090e16c",
   "metadata": {
    "execution": {
     "iopub.execute_input": "2024-07-09T17:29:51.084416Z",
     "iopub.status.busy": "2024-07-09T17:29:51.084023Z",
     "iopub.status.idle": "2024-07-09T17:29:51.096837Z",
     "shell.execute_reply": "2024-07-09T17:29:51.095511Z"
    },
    "papermill": {
     "duration": 0.022742,
     "end_time": "2024-07-09T17:29:51.099110",
     "exception": false,
     "start_time": "2024-07-09T17:29:51.076368",
     "status": "completed"
    },
    "tags": []
   },
   "outputs": [
    {
     "name": "stdout",
     "output_type": "stream",
     "text": [
      "You've successfully run some Python code\n",
      "Congratulations!\n",
      "YEAH!\n"
     ]
    }
   ],
   "source": [
    "print(\"You've successfully run some Python code\")\n",
    "print(\"Congratulations!\")\n",
    "print(\"YEAH!\")"
   ]
  },
  {
   "cell_type": "markdown",
   "id": "67f43918",
   "metadata": {
    "papermill": {
     "duration": 0.005967,
     "end_time": "2024-07-09T17:29:51.111577",
     "exception": false,
     "start_time": "2024-07-09T17:29:51.105610",
     "status": "completed"
    },
    "tags": []
   },
   "source": [
    "Try adding another line of code in the cell above and re-running it. \n",
    "\n",
    "Now let's get a little fancier:  Add a new code cell by clicking on an existing code cell, hitting the escape key, and then hitting the `a` or `b` key.  The `a` key will add a cell above the current cell, and `b` adds a cell below.\n",
    "\n",
    "Great! Now you know how to use Notebooks.\n",
    "\n",
    "Each hands-on exercise starts by setting up our feedback and code checking mechanism. Run the code cell below to do that. Then you'll be ready to move on to question 0."
   ]
  },
  {
   "cell_type": "code",
   "execution_count": 2,
   "id": "eb15b5e0",
   "metadata": {
    "_kg_hide-input": true,
    "_kg_hide-output": true,
    "execution": {
     "iopub.execute_input": "2024-07-09T17:29:51.125837Z",
     "iopub.status.busy": "2024-07-09T17:29:51.125445Z",
     "iopub.status.idle": "2024-07-09T17:29:52.004398Z",
     "shell.execute_reply": "2024-07-09T17:29:52.003019Z"
    },
    "papermill": {
     "duration": 0.889066,
     "end_time": "2024-07-09T17:29:52.006930",
     "exception": false,
     "start_time": "2024-07-09T17:29:51.117864",
     "status": "completed"
    },
    "tags": []
   },
   "outputs": [
    {
     "name": "stdout",
     "output_type": "stream",
     "text": [
      "Setup complete! You're ready to start question 0.\n"
     ]
    }
   ],
   "source": [
    "from learntools.core import binder; binder.bind(globals())\n",
    "from learntools.python.ex1 import *\n",
    "print(\"Setup complete! You're ready to start question 0.\")"
   ]
  },
  {
   "cell_type": "markdown",
   "id": "cbe0a21a",
   "metadata": {
    "papermill": {
     "duration": 0.005954,
     "end_time": "2024-07-09T17:29:52.019364",
     "exception": false,
     "start_time": "2024-07-09T17:29:52.013410",
     "status": "completed"
    },
    "tags": []
   },
   "source": [
    "# 0.\n",
    "\n",
    "*This is a silly question intended as an introduction to the format we use for hands-on exercises throughout all Kaggle courses.*\n",
    "\n",
    "**What is your favorite color? **\n",
    "\n",
    "To complete this question, create a variable called `color` in the cell below with an appropriate value. The function call `q0.check()` (which we've already provided in the cell below) will check your answer."
   ]
  },
  {
   "cell_type": "code",
   "execution_count": 3,
   "id": "9daf2642",
   "metadata": {
    "execution": {
     "iopub.execute_input": "2024-07-09T17:29:52.033688Z",
     "iopub.status.busy": "2024-07-09T17:29:52.033204Z",
     "iopub.status.idle": "2024-07-09T17:29:52.043023Z",
     "shell.execute_reply": "2024-07-09T17:29:52.042021Z"
    },
    "papermill": {
     "duration": 0.019618,
     "end_time": "2024-07-09T17:29:52.045333",
     "exception": false,
     "start_time": "2024-07-09T17:29:52.025715",
     "status": "completed"
    },
    "tags": []
   },
   "outputs": [
    {
     "data": {
      "application/javascript": [
       "parent.postMessage({\"jupyterEvent\": \"custom.exercise_interaction\", \"data\": {\"outcomeType\": 1, \"valueTowardsCompletion\": 0.25, \"interactionType\": 1, \"questionType\": 2, \"questionId\": \"0_ExerciseFormatTutorial\", \"learnToolsVersion\": \"0.3.4\", \"failureMessage\": \"\", \"exceptionClass\": \"\", \"trace\": \"\"}}, \"*\")"
      ],
      "text/plain": [
       "<IPython.core.display.Javascript object>"
      ]
     },
     "metadata": {},
     "output_type": "display_data"
    },
    {
     "data": {
      "text/markdown": [
       "<span style=\"color:#33cc33\">Correct:</span> What?! You got it right without needing a hint or anything? Drats. Well hey, you should still continue to the next step to get some practice asking for a hint and checking solutions. (Even though you obviously don't need any help here.)"
      ],
      "text/plain": [
       "Correct: What?! You got it right without needing a hint or anything? Drats. Well hey, you should still continue to the next step to get some practice asking for a hint and checking solutions. (Even though you obviously don't need any help here.)"
      ]
     },
     "metadata": {},
     "output_type": "display_data"
    }
   ],
   "source": [
    "# create a variable called color with an appropriate value on the line below\n",
    "# (Remember, strings in Python must be enclosed in 'single' or \"double\" quotes)\n",
    "color = \"blue\"\n",
    "\n",
    "# Check your answer\n",
    "q0.check()"
   ]
  },
  {
   "cell_type": "markdown",
   "id": "f53af54d",
   "metadata": {
    "papermill": {
     "duration": 0.008406,
     "end_time": "2024-07-09T17:29:52.060416",
     "exception": false,
     "start_time": "2024-07-09T17:29:52.052010",
     "status": "completed"
    },
    "tags": []
   },
   "source": [
    "Didn't get the right answer? How do you not even know your own favorite color?!\n",
    "\n",
    "Delete the `#` in the line below to make one of the lines run. You can choose between getting a hint or the full answer by choosing which line to remove the `#` from. \n",
    "\n",
    "Removing the `#` is called uncommenting, because it changes that line from a \"comment\" which Python doesn't run to code, which Python does run."
   ]
  },
  {
   "cell_type": "code",
   "execution_count": 4,
   "id": "4ef95179",
   "metadata": {
    "execution": {
     "iopub.execute_input": "2024-07-09T17:29:52.080916Z",
     "iopub.status.busy": "2024-07-09T17:29:52.080373Z",
     "iopub.status.idle": "2024-07-09T17:29:52.090353Z",
     "shell.execute_reply": "2024-07-09T17:29:52.089329Z"
    },
    "papermill": {
     "duration": 0.022732,
     "end_time": "2024-07-09T17:29:52.093189",
     "exception": false,
     "start_time": "2024-07-09T17:29:52.070457",
     "status": "completed"
    },
    "tags": []
   },
   "outputs": [
    {
     "data": {
      "application/javascript": [
       "parent.postMessage({\"jupyterEvent\": \"custom.exercise_interaction\", \"data\": {\"interactionType\": 2, \"questionType\": 2, \"questionId\": \"0_ExerciseFormatTutorial\", \"learnToolsVersion\": \"0.3.4\", \"valueTowardsCompletion\": 0.0, \"failureMessage\": \"\", \"exceptionClass\": \"\", \"trace\": \"\", \"outcomeType\": 4}}, \"*\")"
      ],
      "text/plain": [
       "<IPython.core.display.Javascript object>"
      ]
     },
     "metadata": {},
     "output_type": "display_data"
    },
    {
     "data": {
      "text/markdown": [
       "<span style=\"color:#3366cc\">Hint:</span> Your favorite color rhymes with *glue*."
      ],
      "text/plain": [
       "Hint: Your favorite color rhymes with *glue*."
      ]
     },
     "metadata": {},
     "output_type": "display_data"
    }
   ],
   "source": [
    "q0.hint()\n",
    "#q0.solution()"
   ]
  },
  {
   "cell_type": "markdown",
   "id": "79bd6912",
   "metadata": {
    "papermill": {
     "duration": 0.006632,
     "end_time": "2024-07-09T17:29:52.109436",
     "exception": false,
     "start_time": "2024-07-09T17:29:52.102804",
     "status": "completed"
    },
    "tags": []
   },
   "source": [
    "The upcoming questions work the same way. The only thing that will change are the question numbers. For the next question, you'll call `q1.check()`, `q1.hint()`, `q1.solution()`, for question 2, you'll call `q2.check()`, and so on."
   ]
  },
  {
   "cell_type": "markdown",
   "id": "b5c60847",
   "metadata": {
    "papermill": {
     "duration": 0.006716,
     "end_time": "2024-07-09T17:29:52.123942",
     "exception": false,
     "start_time": "2024-07-09T17:29:52.117226",
     "status": "completed"
    },
    "tags": []
   },
   "source": [
    "<hr/>\n",
    "\n",
    "# 1.\n",
    "\n",
    "Complete the code below. In case it's helpful, here is the table of available arithmetic operations:\n",
    "\n",
    "\n",
    "\n",
    "| Operator     | Name           | Description                                            |\n",
    "|--------------|----------------|--------------------------------------------------------|\n",
    "| ``a + b``    | Addition       | Sum of ``a`` and ``b``                                 |\n",
    "| ``a - b``    | Subtraction    | Difference of ``a`` and ``b``                          |\n",
    "| ``a * b``    | Multiplication | Product of ``a`` and ``b``                             |\n",
    "| ``a / b``    | True division  | Quotient of ``a`` and ``b``                            |\n",
    "| ``a // b``   | Floor division | Quotient of ``a`` and ``b``, removing fractional parts |\n",
    "| ``a % b``    | Modulus        | Integer remainder after division of ``a`` by ``b``     |\n",
    "| ``a ** b``   | Exponentiation | ``a`` raised to the power of ``b``                     |\n",
    "| ``-a``       | Negation       | The negative of ``a``                                  |\n",
    "\n",
    "<span style=\"display:none\"></span>\n"
   ]
  },
  {
   "cell_type": "code",
   "execution_count": 5,
   "id": "ae58c637",
   "metadata": {
    "execution": {
     "iopub.execute_input": "2024-07-09T17:29:52.140278Z",
     "iopub.status.busy": "2024-07-09T17:29:52.139184Z",
     "iopub.status.idle": "2024-07-09T17:29:52.150236Z",
     "shell.execute_reply": "2024-07-09T17:29:52.148990Z"
    },
    "papermill": {
     "duration": 0.021685,
     "end_time": "2024-07-09T17:29:52.152563",
     "exception": false,
     "start_time": "2024-07-09T17:29:52.130878",
     "status": "completed"
    },
    "tags": []
   },
   "outputs": [
    {
     "data": {
      "application/javascript": [
       "parent.postMessage({\"jupyterEvent\": \"custom.exercise_interaction\", \"data\": {\"outcomeType\": 1, \"valueTowardsCompletion\": 0.25, \"interactionType\": 1, \"questionType\": 1, \"questionId\": \"1_CircleArea\", \"learnToolsVersion\": \"0.3.4\", \"failureMessage\": \"\", \"exceptionClass\": \"\", \"trace\": \"\"}}, \"*\")"
      ],
      "text/plain": [
       "<IPython.core.display.Javascript object>"
      ]
     },
     "metadata": {},
     "output_type": "display_data"
    },
    {
     "data": {
      "text/markdown": [
       "<span style=\"color:#33cc33\">Correct</span>"
      ],
      "text/plain": [
       "Correct"
      ]
     },
     "metadata": {},
     "output_type": "display_data"
    }
   ],
   "source": [
    "pi = 3.14159 # approximate\n",
    "diameter = 3\n",
    "\n",
    "# Create a variable called 'radius' equal to half the diameter\n",
    "radius = diameter / 2\n",
    "\n",
    "# Create a variable called 'area', using the formula for the area of a circle: pi times the radius squared\n",
    "area = pi * radius**2\n",
    "\n",
    "# Check your answer\n",
    "q1.check()"
   ]
  },
  {
   "cell_type": "code",
   "execution_count": 6,
   "id": "26a14e4e",
   "metadata": {
    "execution": {
     "iopub.execute_input": "2024-07-09T17:29:52.169306Z",
     "iopub.status.busy": "2024-07-09T17:29:52.168802Z",
     "iopub.status.idle": "2024-07-09T17:29:52.173992Z",
     "shell.execute_reply": "2024-07-09T17:29:52.172910Z"
    },
    "papermill": {
     "duration": 0.016885,
     "end_time": "2024-07-09T17:29:52.176618",
     "exception": false,
     "start_time": "2024-07-09T17:29:52.159733",
     "status": "completed"
    },
    "tags": []
   },
   "outputs": [],
   "source": [
    "# Uncomment and run the lines below if you need help.\n",
    "#q1.hint()\n",
    "#q1.solution()"
   ]
  },
  {
   "cell_type": "markdown",
   "id": "bcbbf08b",
   "metadata": {
    "papermill": {
     "duration": 0.010729,
     "end_time": "2024-07-09T17:29:52.198011",
     "exception": false,
     "start_time": "2024-07-09T17:29:52.187282",
     "status": "completed"
    },
    "tags": []
   },
   "source": [
    "<hr/>\n",
    "\n",
    "# 2.\n",
    "\n",
    "Add code to the following cell to swap variables `a` and `b` (so that `a` refers to the object previously referred to by `b` and vice versa)."
   ]
  },
  {
   "cell_type": "code",
   "execution_count": 7,
   "id": "d9c4ff3f",
   "metadata": {
    "execution": {
     "iopub.execute_input": "2024-07-09T17:29:52.220007Z",
     "iopub.status.busy": "2024-07-09T17:29:52.219642Z",
     "iopub.status.idle": "2024-07-09T17:29:52.229829Z",
     "shell.execute_reply": "2024-07-09T17:29:52.228679Z"
    },
    "papermill": {
     "duration": 0.022482,
     "end_time": "2024-07-09T17:29:52.232519",
     "exception": false,
     "start_time": "2024-07-09T17:29:52.210037",
     "status": "completed"
    },
    "tags": []
   },
   "outputs": [
    {
     "data": {
      "application/javascript": [
       "parent.postMessage({\"jupyterEvent\": \"custom.exercise_interaction\", \"data\": {\"outcomeType\": 1, \"valueTowardsCompletion\": 0.25, \"interactionType\": 1, \"questionType\": 2, \"questionId\": \"2_VariableSwap\", \"learnToolsVersion\": \"0.3.4\", \"failureMessage\": \"\", \"exceptionClass\": \"\", \"trace\": \"\"}}, \"*\")"
      ],
      "text/plain": [
       "<IPython.core.display.Javascript object>"
      ]
     },
     "metadata": {},
     "output_type": "display_data"
    },
    {
     "data": {
      "text/markdown": [
       "<span style=\"color:#33cc33\">Correct:</span> \n",
       "\n",
       "The most straightforward solution is to use a third variable to temporarily store one of the old values. e.g.:\n",
       "\n",
       "    tmp = a\n",
       "    a = b\n",
       "    b = tmp\n",
       "\n",
       "If you've read lots of Python code, you might have seen the following trick to swap two variables in one line:\n",
       "\n",
       "    a, b = b, a\n",
       "\n",
       "We'll demystify this bit of Python magic later when we talk about *tuples*."
      ],
      "text/plain": [
       "Correct: \n",
       "\n",
       "The most straightforward solution is to use a third variable to temporarily store one of the old values. e.g.:\n",
       "\n",
       "    tmp = a\n",
       "    a = b\n",
       "    b = tmp\n",
       "\n",
       "If you've read lots of Python code, you might have seen the following trick to swap two variables in one line:\n",
       "\n",
       "    a, b = b, a\n",
       "\n",
       "We'll demystify this bit of Python magic later when we talk about *tuples*."
      ]
     },
     "metadata": {},
     "output_type": "display_data"
    }
   ],
   "source": [
    "########### Setup code - don't touch this part ######################\n",
    "# If you're curious, these are examples of lists. We'll talk about \n",
    "# them in depth a few lessons from now. For now, just know that they're\n",
    "# yet another type of Python object, like int or float.\n",
    "a = [1, 2, 3]\n",
    "b = [3, 2, 1]\n",
    "q2.store_original_ids()\n",
    "######################################################################\n",
    "\n",
    "# Your code goes here. Swap the values to which a and b refer.\n",
    "# If you get stuck, you can always uncomment one or both of the lines in\n",
    "# the next cell for a hint, or to peek at the solution.\n",
    "# c = a\n",
    "# a = b\n",
    "# b = c\n",
    "\n",
    "a, b = b, a\n",
    "######################################################################\n",
    "\n",
    "# Check your answer\n",
    "q2.check()"
   ]
  },
  {
   "cell_type": "code",
   "execution_count": 8,
   "id": "49b92d0b",
   "metadata": {
    "execution": {
     "iopub.execute_input": "2024-07-09T17:29:52.253739Z",
     "iopub.status.busy": "2024-07-09T17:29:52.253294Z",
     "iopub.status.idle": "2024-07-09T17:29:52.260718Z",
     "shell.execute_reply": "2024-07-09T17:29:52.259614Z"
    },
    "papermill": {
     "duration": 0.019253,
     "end_time": "2024-07-09T17:29:52.263172",
     "exception": false,
     "start_time": "2024-07-09T17:29:52.243919",
     "status": "completed"
    },
    "tags": []
   },
   "outputs": [],
   "source": [
    "#q2.hint()"
   ]
  },
  {
   "cell_type": "code",
   "execution_count": 9,
   "id": "07dad173",
   "metadata": {
    "execution": {
     "iopub.execute_input": "2024-07-09T17:29:52.281087Z",
     "iopub.status.busy": "2024-07-09T17:29:52.280011Z",
     "iopub.status.idle": "2024-07-09T17:29:52.285213Z",
     "shell.execute_reply": "2024-07-09T17:29:52.284124Z"
    },
    "papermill": {
     "duration": 0.016637,
     "end_time": "2024-07-09T17:29:52.287587",
     "exception": false,
     "start_time": "2024-07-09T17:29:52.270950",
     "status": "completed"
    },
    "tags": []
   },
   "outputs": [],
   "source": [
    "#q2.solution()"
   ]
  },
  {
   "cell_type": "markdown",
   "id": "2499b4c5",
   "metadata": {
    "papermill": {
     "duration": 0.007256,
     "end_time": "2024-07-09T17:29:52.302975",
     "exception": false,
     "start_time": "2024-07-09T17:29:52.295719",
     "status": "completed"
    },
    "tags": []
   },
   "source": [
    "<hr/>\n",
    "\n",
    "# 3a.\n",
    "\n",
    "Add parentheses to the following expression so that it evaluates to 1."
   ]
  },
  {
   "cell_type": "code",
   "execution_count": 10,
   "id": "ff4caee6",
   "metadata": {
    "execution": {
     "iopub.execute_input": "2024-07-09T17:29:52.320244Z",
     "iopub.status.busy": "2024-07-09T17:29:52.319724Z",
     "iopub.status.idle": "2024-07-09T17:29:52.335532Z",
     "shell.execute_reply": "2024-07-09T17:29:52.334250Z"
    },
    "papermill": {
     "duration": 0.028104,
     "end_time": "2024-07-09T17:29:52.338553",
     "exception": false,
     "start_time": "2024-07-09T17:29:52.310449",
     "status": "completed"
    },
    "tags": []
   },
   "outputs": [
    {
     "data": {
      "text/plain": [
       "1"
      ]
     },
     "execution_count": 10,
     "metadata": {},
     "output_type": "execute_result"
    }
   ],
   "source": [
    "(5 - 3) // 2"
   ]
  },
  {
   "cell_type": "code",
   "execution_count": 11,
   "id": "63833862",
   "metadata": {
    "execution": {
     "iopub.execute_input": "2024-07-09T17:29:52.357110Z",
     "iopub.status.busy": "2024-07-09T17:29:52.356591Z",
     "iopub.status.idle": "2024-07-09T17:29:52.361589Z",
     "shell.execute_reply": "2024-07-09T17:29:52.360555Z"
    },
    "papermill": {
     "duration": 0.01711,
     "end_time": "2024-07-09T17:29:52.363944",
     "exception": false,
     "start_time": "2024-07-09T17:29:52.346834",
     "status": "completed"
    },
    "tags": []
   },
   "outputs": [],
   "source": [
    "#q3.a.hint()"
   ]
  },
  {
   "cell_type": "code",
   "execution_count": 12,
   "id": "b5c60458",
   "metadata": {
    "execution": {
     "iopub.execute_input": "2024-07-09T17:29:52.382135Z",
     "iopub.status.busy": "2024-07-09T17:29:52.381627Z",
     "iopub.status.idle": "2024-07-09T17:29:52.391717Z",
     "shell.execute_reply": "2024-07-09T17:29:52.390318Z"
    },
    "papermill": {
     "duration": 0.022511,
     "end_time": "2024-07-09T17:29:52.394930",
     "exception": false,
     "start_time": "2024-07-09T17:29:52.372419",
     "status": "completed"
    },
    "tags": []
   },
   "outputs": [
    {
     "data": {
      "application/javascript": [
       "parent.postMessage({\"jupyterEvent\": \"custom.exercise_interaction\", \"data\": {\"interactionType\": 3, \"questionType\": 4, \"questionId\": \"3.1_ArithmeticParensEasy\", \"learnToolsVersion\": \"0.3.4\", \"valueTowardsCompletion\": 0.0, \"failureMessage\": \"\", \"exceptionClass\": \"\", \"trace\": \"\", \"outcomeType\": 4}}, \"*\")"
      ],
      "text/plain": [
       "<IPython.core.display.Javascript object>"
      ]
     },
     "metadata": {},
     "output_type": "display_data"
    },
    {
     "data": {
      "text/markdown": [
       "<span style=\"color:#33cc99\">Solution:</span> \n",
       "```python\n",
       "(5 - 3) // 2\n",
       "```"
      ],
      "text/plain": [
       "Solution: \n",
       "```python\n",
       "(5 - 3) // 2\n",
       "```"
      ]
     },
     "metadata": {},
     "output_type": "display_data"
    }
   ],
   "source": [
    "# Check your answer (Run this code cell to receive credit!)\n",
    "q3.a.solution()"
   ]
  },
  {
   "cell_type": "markdown",
   "id": "958bd7ad",
   "metadata": {
    "papermill": {
     "duration": 0.008643,
     "end_time": "2024-07-09T17:29:52.411799",
     "exception": false,
     "start_time": "2024-07-09T17:29:52.403156",
     "status": "completed"
    },
    "tags": []
   },
   "source": [
    "# 3b.  <span title=\"A bit spicy\" style=\"color: darkgreen \">🌶️</span>\n",
    "\n",
    "<small>Questions, like this one, marked a spicy pepper are a bit harder.</small>\n",
    "\n",
    "Add parentheses to the following expression so that it evaluates to 0."
   ]
  },
  {
   "cell_type": "code",
   "execution_count": 13,
   "id": "4659abf4",
   "metadata": {
    "execution": {
     "iopub.execute_input": "2024-07-09T17:29:52.431350Z",
     "iopub.status.busy": "2024-07-09T17:29:52.430438Z",
     "iopub.status.idle": "2024-07-09T17:29:52.438329Z",
     "shell.execute_reply": "2024-07-09T17:29:52.437052Z"
    },
    "papermill": {
     "duration": 0.020384,
     "end_time": "2024-07-09T17:29:52.441011",
     "exception": false,
     "start_time": "2024-07-09T17:29:52.420627",
     "status": "completed"
    },
    "tags": []
   },
   "outputs": [
    {
     "data": {
      "text/plain": [
       "0"
      ]
     },
     "execution_count": 13,
     "metadata": {},
     "output_type": "execute_result"
    }
   ],
   "source": [
    "(8 - 3) * (2 - (1 + 1))"
   ]
  },
  {
   "cell_type": "code",
   "execution_count": 14,
   "id": "cfa97af7",
   "metadata": {
    "execution": {
     "iopub.execute_input": "2024-07-09T17:29:52.459791Z",
     "iopub.status.busy": "2024-07-09T17:29:52.459315Z",
     "iopub.status.idle": "2024-07-09T17:29:52.464192Z",
     "shell.execute_reply": "2024-07-09T17:29:52.463121Z"
    },
    "papermill": {
     "duration": 0.017763,
     "end_time": "2024-07-09T17:29:52.467101",
     "exception": false,
     "start_time": "2024-07-09T17:29:52.449338",
     "status": "completed"
    },
    "tags": []
   },
   "outputs": [],
   "source": [
    "#q3.b.hint()"
   ]
  },
  {
   "cell_type": "code",
   "execution_count": 15,
   "id": "cd03f017",
   "metadata": {
    "execution": {
     "iopub.execute_input": "2024-07-09T17:29:52.488163Z",
     "iopub.status.busy": "2024-07-09T17:29:52.487678Z",
     "iopub.status.idle": "2024-07-09T17:29:52.497889Z",
     "shell.execute_reply": "2024-07-09T17:29:52.496774Z"
    },
    "papermill": {
     "duration": 0.022622,
     "end_time": "2024-07-09T17:29:52.500502",
     "exception": false,
     "start_time": "2024-07-09T17:29:52.477880",
     "status": "completed"
    },
    "tags": []
   },
   "outputs": [
    {
     "data": {
      "application/javascript": [
       "parent.postMessage({\"jupyterEvent\": \"custom.exercise_interaction\", \"data\": {\"interactionType\": 3, \"questionType\": 4, \"questionId\": \"3.2_ArithmeticParensHard\", \"learnToolsVersion\": \"0.3.4\", \"valueTowardsCompletion\": 0.0, \"failureMessage\": \"\", \"exceptionClass\": \"\", \"trace\": \"\", \"outcomeType\": 4}}, \"*\")"
      ],
      "text/plain": [
       "<IPython.core.display.Javascript object>"
      ]
     },
     "metadata": {},
     "output_type": "display_data"
    },
    {
     "data": {
      "text/markdown": [
       "<span style=\"color:#33cc99\">Solution:</span> `(8 - 3) * (2 - (1 + 1))` is one solution. There may be others."
      ],
      "text/plain": [
       "Solution: `(8 - 3) * (2 - (1 + 1))` is one solution. There may be others."
      ]
     },
     "metadata": {},
     "output_type": "display_data"
    }
   ],
   "source": [
    "# Check your answer (Run this code cell to receive credit!)\n",
    "q3.b.solution()"
   ]
  },
  {
   "cell_type": "markdown",
   "id": "84714144",
   "metadata": {
    "papermill": {
     "duration": 0.010339,
     "end_time": "2024-07-09T17:29:52.519361",
     "exception": false,
     "start_time": "2024-07-09T17:29:52.509022",
     "status": "completed"
    },
    "tags": []
   },
   "source": [
    "<hr/>\n",
    "\n",
    "# 4. \n",
    "Alice, Bob and Carol have agreed to pool their Halloween candy and split it evenly among themselves.\n",
    "For the sake of their friendship, any candies left over will be smashed. For example, if they collectively\n",
    "bring home 91 candies, they'll take 30 each and smash 1.\n",
    "\n",
    "Write an arithmetic expression below to calculate how many candies they must smash for a given haul."
   ]
  },
  {
   "cell_type": "code",
   "execution_count": 16,
   "id": "645f4547",
   "metadata": {
    "execution": {
     "iopub.execute_input": "2024-07-09T17:29:52.541966Z",
     "iopub.status.busy": "2024-07-09T17:29:52.540910Z",
     "iopub.status.idle": "2024-07-09T17:29:52.551445Z",
     "shell.execute_reply": "2024-07-09T17:29:52.550355Z"
    },
    "papermill": {
     "duration": 0.022757,
     "end_time": "2024-07-09T17:29:52.553633",
     "exception": false,
     "start_time": "2024-07-09T17:29:52.530876",
     "status": "completed"
    },
    "tags": []
   },
   "outputs": [
    {
     "data": {
      "application/javascript": [
       "parent.postMessage({\"jupyterEvent\": \"custom.exercise_interaction\", \"data\": {\"outcomeType\": 1, \"valueTowardsCompletion\": 0.25, \"interactionType\": 1, \"questionType\": 1, \"questionId\": \"4_CandySplitting\", \"learnToolsVersion\": \"0.3.4\", \"failureMessage\": \"\", \"exceptionClass\": \"\", \"trace\": \"\"}}, \"*\")"
      ],
      "text/plain": [
       "<IPython.core.display.Javascript object>"
      ]
     },
     "metadata": {},
     "output_type": "display_data"
    },
    {
     "data": {
      "text/markdown": [
       "<span style=\"color:#33cc33\">Correct</span>"
      ],
      "text/plain": [
       "Correct"
      ]
     },
     "metadata": {},
     "output_type": "display_data"
    }
   ],
   "source": [
    "# Variables representing the number of candies collected by alice, bob, and carol\n",
    "alice_candies = 121\n",
    "bob_candies = 77\n",
    "carol_candies = 109\n",
    "\n",
    "# Your code goes here! Replace the right-hand side of this assignment with an expression\n",
    "# involving alice_candies, bob_candies, and carol_candies\n",
    "to_smash = (alice_candies + bob_candies + carol_candies)%3\n",
    "\n",
    "# Check your answer\n",
    "q4.check()"
   ]
  },
  {
   "cell_type": "code",
   "execution_count": 17,
   "id": "0d7da96a",
   "metadata": {
    "execution": {
     "iopub.execute_input": "2024-07-09T17:29:52.577342Z",
     "iopub.status.busy": "2024-07-09T17:29:52.576120Z",
     "iopub.status.idle": "2024-07-09T17:29:52.580833Z",
     "shell.execute_reply": "2024-07-09T17:29:52.580028Z"
    },
    "papermill": {
     "duration": 0.019376,
     "end_time": "2024-07-09T17:29:52.583086",
     "exception": false,
     "start_time": "2024-07-09T17:29:52.563710",
     "status": "completed"
    },
    "tags": []
   },
   "outputs": [],
   "source": [
    "#q4.hint()\n",
    "#q4.solution()"
   ]
  },
  {
   "cell_type": "markdown",
   "id": "337c65b5",
   "metadata": {
    "papermill": {
     "duration": 0.012815,
     "end_time": "2024-07-09T17:29:52.607937",
     "exception": false,
     "start_time": "2024-07-09T17:29:52.595122",
     "status": "completed"
    },
    "tags": []
   },
   "source": [
    "# Keep Going\n",
    "\n",
    "Next up, you'll **[learn to write new functions and understand functions others write](https://www.kaggle.com/colinmorris/functions-and-getting-help)**. This will make you at least 10 times more productive as a Python programmer. "
   ]
  },
  {
   "cell_type": "markdown",
   "id": "2fa1e63f",
   "metadata": {
    "papermill": {
     "duration": 0.011599,
     "end_time": "2024-07-09T17:29:52.632885",
     "exception": false,
     "start_time": "2024-07-09T17:29:52.621286",
     "status": "completed"
    },
    "tags": []
   },
   "source": [
    "---\n",
    "\n",
    "\n",
    "\n",
    "\n",
    "*Have questions or comments? Visit the [course discussion forum](https://www.kaggle.com/learn/python/discussion) to chat with other learners.*"
   ]
  }
 ],
 "metadata": {
  "kaggle": {
   "accelerator": "none",
   "dataSources": [],
   "isGpuEnabled": false,
   "isInternetEnabled": false,
   "language": "python",
   "sourceType": "notebook"
  },
  "kernelspec": {
   "display_name": "Python 3",
   "language": "python",
   "name": "python3"
  },
  "language_info": {
   "codemirror_mode": {
    "name": "ipython",
    "version": 3
   },
   "file_extension": ".py",
   "mimetype": "text/x-python",
   "name": "python",
   "nbconvert_exporter": "python",
   "pygments_lexer": "ipython3",
   "version": "3.10.13"
  },
  "learntools_metadata": {
   "lesson_index": 0,
   "type": "exercise"
  },
  "papermill": {
   "default_parameters": {},
   "duration": 4.913034,
   "end_time": "2024-07-09T17:29:53.163545",
   "environment_variables": {},
   "exception": null,
   "input_path": "__notebook__.ipynb",
   "output_path": "__notebook__.ipynb",
   "parameters": {},
   "start_time": "2024-07-09T17:29:48.250511",
   "version": "2.5.0"
  }
 },
 "nbformat": 4,
 "nbformat_minor": 5
}
