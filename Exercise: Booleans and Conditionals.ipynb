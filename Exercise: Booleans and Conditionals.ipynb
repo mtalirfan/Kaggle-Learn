{
 "cells": [
  {
   "cell_type": "markdown",
   "id": "c58b6487",
   "metadata": {
    "papermill": {
     "duration": 0.012137,
     "end_time": "2024-07-09T17:32:19.125768",
     "exception": false,
     "start_time": "2024-07-09T17:32:19.113631",
     "status": "completed"
    },
    "tags": []
   },
   "source": [
    "**This notebook is an exercise in the [Python](https://www.kaggle.com/learn/python) course.  You can reference the tutorial at [this link](https://www.kaggle.com/colinmorris/booleans-and-conditionals).**\n",
    "\n",
    "---\n"
   ]
  },
  {
   "cell_type": "markdown",
   "id": "00140e3f",
   "metadata": {
    "papermill": {
     "duration": 0.011085,
     "end_time": "2024-07-09T17:32:19.148744",
     "exception": false,
     "start_time": "2024-07-09T17:32:19.137659",
     "status": "completed"
    },
    "tags": []
   },
   "source": [
    "In this exercise, you'll put to work what you have learned about booleans and conditionals.\n",
    "\n",
    "To get started, **run the setup code below** before writing your own code (and if you leave this notebook and come back later, don't forget to run the setup code again)."
   ]
  },
  {
   "cell_type": "code",
   "execution_count": 1,
   "id": "bba49699",
   "metadata": {
    "execution": {
     "iopub.execute_input": "2024-07-09T17:32:19.174919Z",
     "iopub.status.busy": "2024-07-09T17:32:19.174430Z",
     "iopub.status.idle": "2024-07-09T17:32:20.161279Z",
     "shell.execute_reply": "2024-07-09T17:32:20.159898Z"
    },
    "papermill": {
     "duration": 1.003324,
     "end_time": "2024-07-09T17:32:20.163943",
     "exception": false,
     "start_time": "2024-07-09T17:32:19.160619",
     "status": "completed"
    },
    "tags": []
   },
   "outputs": [
    {
     "name": "stdout",
     "output_type": "stream",
     "text": [
      "Setup complete.\n"
     ]
    }
   ],
   "source": [
    "from learntools.core import binder; binder.bind(globals())\n",
    "from learntools.python.ex3 import *\n",
    "print('Setup complete.')"
   ]
  },
  {
   "cell_type": "markdown",
   "id": "b3aaf7c9",
   "metadata": {
    "papermill": {
     "duration": 0.011274,
     "end_time": "2024-07-09T17:32:20.187540",
     "exception": false,
     "start_time": "2024-07-09T17:32:20.176266",
     "status": "completed"
    },
    "tags": []
   },
   "source": [
    "# 1.\n",
    "\n",
    "Many programming languages have [`sign`](https://en.wikipedia.org/wiki/Sign_function) available as a built-in function. Python doesn't, but we can define our own!\n",
    "\n",
    "In the cell below, define a function called `sign` which takes a numerical argument and returns -1 if it's negative, 1 if it's positive, and 0 if it's 0."
   ]
  },
  {
   "cell_type": "code",
   "execution_count": 2,
   "id": "e12efaf6",
   "metadata": {
    "execution": {
     "iopub.execute_input": "2024-07-09T17:32:20.212507Z",
     "iopub.status.busy": "2024-07-09T17:32:20.211960Z",
     "iopub.status.idle": "2024-07-09T17:32:20.224228Z",
     "shell.execute_reply": "2024-07-09T17:32:20.223049Z"
    },
    "papermill": {
     "duration": 0.027602,
     "end_time": "2024-07-09T17:32:20.226745",
     "exception": false,
     "start_time": "2024-07-09T17:32:20.199143",
     "status": "completed"
    },
    "tags": []
   },
   "outputs": [
    {
     "data": {
      "application/javascript": [
       "parent.postMessage({\"jupyterEvent\": \"custom.exercise_interaction\", \"data\": {\"outcomeType\": 1, \"valueTowardsCompletion\": 0.2, \"interactionType\": 1, \"questionType\": 2, \"questionId\": \"1_SignFunctionProblem\", \"learnToolsVersion\": \"0.3.4\", \"failureMessage\": \"\", \"exceptionClass\": \"\", \"trace\": \"\"}}, \"*\")"
      ],
      "text/plain": [
       "<IPython.core.display.Javascript object>"
      ]
     },
     "metadata": {},
     "output_type": "display_data"
    },
    {
     "data": {
      "text/markdown": [
       "<span style=\"color:#33cc33\">Correct</span>"
      ],
      "text/plain": [
       "Correct"
      ]
     },
     "metadata": {},
     "output_type": "display_data"
    }
   ],
   "source": [
    "# Your code goes here. Define a function called 'sign'\n",
    "def sign(number):\n",
    "    \"\"\"returns the sign of the given number, positive, zero or negative.\n",
    "    \n",
    "    \"\"\"\n",
    "    if number > 0:\n",
    "        return 1\n",
    "    elif number == 0:\n",
    "        return 0\n",
    "    elif number < 0:\n",
    "        return -1\n",
    "    \n",
    "\n",
    "# Check your answer\n",
    "q1.check()"
   ]
  },
  {
   "cell_type": "code",
   "execution_count": 3,
   "id": "8700a55b",
   "metadata": {
    "execution": {
     "iopub.execute_input": "2024-07-09T17:32:20.252649Z",
     "iopub.status.busy": "2024-07-09T17:32:20.251756Z",
     "iopub.status.idle": "2024-07-09T17:32:20.256597Z",
     "shell.execute_reply": "2024-07-09T17:32:20.255531Z"
    },
    "papermill": {
     "duration": 0.0204,
     "end_time": "2024-07-09T17:32:20.259074",
     "exception": false,
     "start_time": "2024-07-09T17:32:20.238674",
     "status": "completed"
    },
    "tags": []
   },
   "outputs": [],
   "source": [
    "#q1.solution()"
   ]
  },
  {
   "cell_type": "markdown",
   "id": "ac7d8390",
   "metadata": {
    "papermill": {
     "duration": 0.011619,
     "end_time": "2024-07-09T17:32:20.282750",
     "exception": false,
     "start_time": "2024-07-09T17:32:20.271131",
     "status": "completed"
    },
    "tags": []
   },
   "source": [
    "# 2.\n",
    "\n",
    "We've decided to add \"logging\" to our `to_smash` function from the previous exercise."
   ]
  },
  {
   "cell_type": "code",
   "execution_count": 4,
   "id": "c7a87b42",
   "metadata": {
    "execution": {
     "iopub.execute_input": "2024-07-09T17:32:20.308485Z",
     "iopub.status.busy": "2024-07-09T17:32:20.308084Z",
     "iopub.status.idle": "2024-07-09T17:32:20.316794Z",
     "shell.execute_reply": "2024-07-09T17:32:20.315435Z"
    },
    "papermill": {
     "duration": 0.025152,
     "end_time": "2024-07-09T17:32:20.319977",
     "exception": false,
     "start_time": "2024-07-09T17:32:20.294825",
     "status": "completed"
    },
    "tags": []
   },
   "outputs": [
    {
     "name": "stdout",
     "output_type": "stream",
     "text": [
      "Splitting 91 candies\n"
     ]
    },
    {
     "data": {
      "text/plain": [
       "1"
      ]
     },
     "execution_count": 4,
     "metadata": {},
     "output_type": "execute_result"
    }
   ],
   "source": [
    "def to_smash(total_candies):\n",
    "    \"\"\"Return the number of leftover candies that must be smashed after distributing\n",
    "    the given number of candies evenly between 3 friends.\n",
    "    \n",
    "    >>> to_smash(91)\n",
    "    1\n",
    "    \"\"\"\n",
    "    print(\"Splitting\", total_candies, \"candies\")\n",
    "    return total_candies % 3\n",
    "\n",
    "to_smash(91)"
   ]
  },
  {
   "cell_type": "markdown",
   "id": "3b162068",
   "metadata": {
    "papermill": {
     "duration": 0.011855,
     "end_time": "2024-07-09T17:32:20.345418",
     "exception": false,
     "start_time": "2024-07-09T17:32:20.333563",
     "status": "completed"
    },
    "tags": []
   },
   "source": [
    "What happens if we call it with `total_candies = 1`?"
   ]
  },
  {
   "cell_type": "code",
   "execution_count": 5,
   "id": "81acfdf2",
   "metadata": {
    "execution": {
     "iopub.execute_input": "2024-07-09T17:32:20.371951Z",
     "iopub.status.busy": "2024-07-09T17:32:20.371215Z",
     "iopub.status.idle": "2024-07-09T17:32:20.378549Z",
     "shell.execute_reply": "2024-07-09T17:32:20.377418Z"
    },
    "papermill": {
     "duration": 0.023347,
     "end_time": "2024-07-09T17:32:20.381078",
     "exception": false,
     "start_time": "2024-07-09T17:32:20.357731",
     "status": "completed"
    },
    "tags": []
   },
   "outputs": [
    {
     "name": "stdout",
     "output_type": "stream",
     "text": [
      "Splitting 1 candies\n"
     ]
    },
    {
     "data": {
      "text/plain": [
       "1"
      ]
     },
     "execution_count": 5,
     "metadata": {},
     "output_type": "execute_result"
    }
   ],
   "source": [
    "to_smash(1)"
   ]
  },
  {
   "cell_type": "markdown",
   "id": "444c5372",
   "metadata": {
    "papermill": {
     "duration": 0.012912,
     "end_time": "2024-07-09T17:32:20.406500",
     "exception": false,
     "start_time": "2024-07-09T17:32:20.393588",
     "status": "completed"
    },
    "tags": []
   },
   "source": [
    "That isn't great grammar!\n",
    "\n",
    "Modify the definition in the cell below to correct the grammar of our print statement. (If there's only one candy, we should use the singular \"candy\" instead of the plural \"candies\")"
   ]
  },
  {
   "cell_type": "code",
   "execution_count": 6,
   "id": "fcfea979",
   "metadata": {
    "execution": {
     "iopub.execute_input": "2024-07-09T17:32:20.434254Z",
     "iopub.status.busy": "2024-07-09T17:32:20.433861Z",
     "iopub.status.idle": "2024-07-09T17:32:20.443568Z",
     "shell.execute_reply": "2024-07-09T17:32:20.442348Z"
    },
    "papermill": {
     "duration": 0.02708,
     "end_time": "2024-07-09T17:32:20.446053",
     "exception": false,
     "start_time": "2024-07-09T17:32:20.418973",
     "status": "completed"
    },
    "tags": []
   },
   "outputs": [
    {
     "name": "stdout",
     "output_type": "stream",
     "text": [
      "Splitting 91 candies\n",
      "Splitting 1 candy\n"
     ]
    },
    {
     "data": {
      "text/plain": [
       "1"
      ]
     },
     "execution_count": 6,
     "metadata": {},
     "output_type": "execute_result"
    }
   ],
   "source": [
    "def to_smash(total_candies):\n",
    "    \"\"\"Return the number of leftover candies that must be smashed after distributing\n",
    "    the given number of candies evenly between 3 friends.\n",
    "    \n",
    "    >>> to_smash(91)\n",
    "    1\n",
    "    \"\"\"\n",
    "    print(\"Splitting\", total_candies, \"candy\" if (total_candies == 1) else \"candies\")\n",
    "    return total_candies % 3\n",
    "\n",
    "to_smash(91)\n",
    "to_smash(1)"
   ]
  },
  {
   "cell_type": "markdown",
   "id": "2332f768",
   "metadata": {
    "papermill": {
     "duration": 0.012344,
     "end_time": "2024-07-09T17:32:20.471150",
     "exception": false,
     "start_time": "2024-07-09T17:32:20.458806",
     "status": "completed"
    },
    "tags": []
   },
   "source": [
    "To get credit for completing this problem, and to see the official answer, run the code cell below."
   ]
  },
  {
   "cell_type": "code",
   "execution_count": 7,
   "id": "23204359",
   "metadata": {
    "execution": {
     "iopub.execute_input": "2024-07-09T17:32:20.498657Z",
     "iopub.status.busy": "2024-07-09T17:32:20.497748Z",
     "iopub.status.idle": "2024-07-09T17:32:20.506621Z",
     "shell.execute_reply": "2024-07-09T17:32:20.505568Z"
    },
    "papermill": {
     "duration": 0.025249,
     "end_time": "2024-07-09T17:32:20.509085",
     "exception": false,
     "start_time": "2024-07-09T17:32:20.483836",
     "status": "completed"
    },
    "tags": []
   },
   "outputs": [
    {
     "data": {
      "application/javascript": [
       "parent.postMessage({\"jupyterEvent\": \"custom.exercise_interaction\", \"data\": {\"interactionType\": 3, \"questionType\": 4, \"questionId\": \"2_PluralizationProblem\", \"learnToolsVersion\": \"0.3.4\", \"valueTowardsCompletion\": 0.0, \"failureMessage\": \"\", \"exceptionClass\": \"\", \"trace\": \"\", \"outcomeType\": 4}}, \"*\")"
      ],
      "text/plain": [
       "<IPython.core.display.Javascript object>"
      ]
     },
     "metadata": {},
     "output_type": "display_data"
    },
    {
     "data": {
      "text/markdown": [
       "<span style=\"color:#33cc99\">Solution:</span> A straightforward (and totally fine) solution is to replace the original `print` call with:\n",
       "\n",
       "```python\n",
       "if total_candies == 1:\n",
       "    print(\"Splitting 1 candy\")\n",
       "else:\n",
       "    print(\"Splitting\", total_candies, \"candies\")\n",
       "```\n",
       "\n",
       "Here's a slightly more succinct solution using a conditional expression:\n",
       "\n",
       "```python\n",
       "print(\"Splitting\", total_candies, \"candy\" if total_candies == 1 else \"candies\")\n",
       "```"
      ],
      "text/plain": [
       "Solution: A straightforward (and totally fine) solution is to replace the original `print` call with:\n",
       "\n",
       "```python\n",
       "if total_candies == 1:\n",
       "    print(\"Splitting 1 candy\")\n",
       "else:\n",
       "    print(\"Splitting\", total_candies, \"candies\")\n",
       "```\n",
       "\n",
       "Here's a slightly more succinct solution using a conditional expression:\n",
       "\n",
       "```python\n",
       "print(\"Splitting\", total_candies, \"candy\" if total_candies == 1 else \"candies\")\n",
       "```"
      ]
     },
     "metadata": {},
     "output_type": "display_data"
    }
   ],
   "source": [
    "# Check your answer (Run this code cell to receive credit!)\n",
    "q2.solution()"
   ]
  },
  {
   "cell_type": "markdown",
   "id": "38728fe2",
   "metadata": {
    "papermill": {
     "duration": 0.012824,
     "end_time": "2024-07-09T17:32:20.535544",
     "exception": false,
     "start_time": "2024-07-09T17:32:20.522720",
     "status": "completed"
    },
    "tags": []
   },
   "source": [
    "# 3. <span title=\"A bit spicy\" style=\"color: darkgreen \">🌶️</span>\n",
    "\n",
    "In the tutorial, we talked about deciding whether we're prepared for the weather. I said that I'm safe from today's weather if...\n",
    "- I have an umbrella...\n",
    "- or if the rain isn't too heavy and I have a hood...\n",
    "- otherwise, I'm still fine unless it's raining *and* it's a workday\n",
    "\n",
    "The function below uses our first attempt at turning this logic into a Python expression. I claimed that there was a bug in that code. Can you find it?\n",
    "\n",
    "To prove that `prepared_for_weather` is buggy, come up with a set of inputs where either:\n",
    "- the function returns `False` (but should have returned `True`), or\n",
    "- the function returned `True` (but should have returned `False`).\n",
    "\n",
    "To get credit for completing this question, your code should return a <font color='#33cc33'>Correct</font> result."
   ]
  },
  {
   "cell_type": "code",
   "execution_count": 8,
   "id": "70a23ec3",
   "metadata": {
    "execution": {
     "iopub.execute_input": "2024-07-09T17:32:20.563634Z",
     "iopub.status.busy": "2024-07-09T17:32:20.563218Z",
     "iopub.status.idle": "2024-07-09T17:32:20.575351Z",
     "shell.execute_reply": "2024-07-09T17:32:20.574329Z"
    },
    "papermill": {
     "duration": 0.02901,
     "end_time": "2024-07-09T17:32:20.577680",
     "exception": false,
     "start_time": "2024-07-09T17:32:20.548670",
     "status": "completed"
    },
    "tags": []
   },
   "outputs": [
    {
     "name": "stdout",
     "output_type": "stream",
     "text": [
      "False\n"
     ]
    },
    {
     "data": {
      "application/javascript": [
       "parent.postMessage({\"jupyterEvent\": \"custom.exercise_interaction\", \"data\": {\"outcomeType\": 1, \"valueTowardsCompletion\": 0.2, \"interactionType\": 1, \"questionType\": 1, \"questionId\": \"3_WeatherDebug\", \"learnToolsVersion\": \"0.3.4\", \"failureMessage\": \"\", \"exceptionClass\": \"\", \"trace\": \"\"}}, \"*\")"
      ],
      "text/plain": [
       "<IPython.core.display.Javascript object>"
      ]
     },
     "metadata": {},
     "output_type": "display_data"
    },
    {
     "data": {
      "text/markdown": [
       "<span style=\"color:#33cc33\">Correct:</span> \n",
       "\n",
       "One example of a failing test case is:\n",
       "\n",
       "```python\n",
       "have_umbrella = False\n",
       "rain_level = 0.0\n",
       "have_hood = False\n",
       "is_workday = False\n",
       "```\n",
       "\n",
       "Clearly we're prepared for the weather in this case. It's not raining. Not only that, it's not a workday, so we don't even need to leave the house! But our function will return False on these inputs.\n",
       "\n",
       "The key problem is that Python implictly parenthesizes the last part as:\n",
       "\n",
       "```python\n",
       "(not (rain_level > 0)) and is_workday\n",
       "```\n",
       "\n",
       "Whereas what we were trying to express would look more like:\n",
       "\n",
       "```python\n",
       "not (rain_level > 0 and is_workday)\n",
       "```\n"
      ],
      "text/plain": [
       "Correct: \n",
       "\n",
       "One example of a failing test case is:\n",
       "\n",
       "```python\n",
       "have_umbrella = False\n",
       "rain_level = 0.0\n",
       "have_hood = False\n",
       "is_workday = False\n",
       "```\n",
       "\n",
       "Clearly we're prepared for the weather in this case. It's not raining. Not only that, it's not a workday, so we don't even need to leave the house! But our function will return False on these inputs.\n",
       "\n",
       "The key problem is that Python implictly parenthesizes the last part as:\n",
       "\n",
       "```python\n",
       "(not (rain_level > 0)) and is_workday\n",
       "```\n",
       "\n",
       "Whereas what we were trying to express would look more like:\n",
       "\n",
       "```python\n",
       "not (rain_level > 0 and is_workday)\n",
       "```"
      ]
     },
     "metadata": {},
     "output_type": "display_data"
    }
   ],
   "source": [
    "def prepared_for_weather(have_umbrella, rain_level, have_hood, is_workday):\n",
    "    # Don't change this code. Our goal is just to find the bug, not fix it!\n",
    "    return have_umbrella or rain_level < 5 and have_hood or not rain_level > 0 and is_workday\n",
    "\n",
    "# Change the values of these inputs so they represent a case where prepared_for_weather\n",
    "# returns the wrong answer.\n",
    "have_umbrella = False\n",
    "rain_level = 0.0\n",
    "have_hood = False\n",
    "is_workday = False\n",
    "\n",
    "# Check what the function returns given the current values of the variables above\n",
    "actual = prepared_for_weather(have_umbrella, rain_level, have_hood, is_workday)\n",
    "print(actual)\n",
    "\n",
    "# Check your answer\n",
    "q3.check()"
   ]
  },
  {
   "cell_type": "code",
   "execution_count": 9,
   "id": "42ab458d",
   "metadata": {
    "execution": {
     "iopub.execute_input": "2024-07-09T17:32:20.607196Z",
     "iopub.status.busy": "2024-07-09T17:32:20.606276Z",
     "iopub.status.idle": "2024-07-09T17:32:20.610982Z",
     "shell.execute_reply": "2024-07-09T17:32:20.609925Z"
    },
    "papermill": {
     "duration": 0.022002,
     "end_time": "2024-07-09T17:32:20.613305",
     "exception": false,
     "start_time": "2024-07-09T17:32:20.591303",
     "status": "completed"
    },
    "tags": []
   },
   "outputs": [],
   "source": [
    "#q3.hint()\n",
    "#q3.solution()"
   ]
  },
  {
   "cell_type": "markdown",
   "id": "6007eaed",
   "metadata": {
    "papermill": {
     "duration": 0.013211,
     "end_time": "2024-07-09T17:32:20.640255",
     "exception": false,
     "start_time": "2024-07-09T17:32:20.627044",
     "status": "completed"
    },
    "tags": []
   },
   "source": [
    "# 4.\n",
    "\n",
    "The function `is_negative` below is implemented correctly - it returns True if the given number is negative and False otherwise.\n",
    "\n",
    "However, it's more verbose than it needs to be. We can actually reduce the number of lines of code in this function by *75%* while keeping the same behaviour. \n",
    "\n",
    "See if you can come up with an equivalent body that uses just **one line** of code, and put it in the function `concise_is_negative`. (HINT: you don't even need Python's ternary syntax)"
   ]
  },
  {
   "cell_type": "code",
   "execution_count": 10,
   "id": "fc6a080b",
   "metadata": {
    "execution": {
     "iopub.execute_input": "2024-07-09T17:32:20.669177Z",
     "iopub.status.busy": "2024-07-09T17:32:20.668813Z",
     "iopub.status.idle": "2024-07-09T17:32:20.679122Z",
     "shell.execute_reply": "2024-07-09T17:32:20.678058Z"
    },
    "papermill": {
     "duration": 0.027483,
     "end_time": "2024-07-09T17:32:20.681466",
     "exception": false,
     "start_time": "2024-07-09T17:32:20.653983",
     "status": "completed"
    },
    "tags": []
   },
   "outputs": [
    {
     "data": {
      "application/javascript": [
       "parent.postMessage({\"jupyterEvent\": \"custom.exercise_interaction\", \"data\": {\"outcomeType\": 1, \"valueTowardsCompletion\": 0.2, \"interactionType\": 1, \"questionType\": 2, \"questionId\": \"4_ConciseIsNegative\", \"learnToolsVersion\": \"0.3.4\", \"failureMessage\": \"\", \"exceptionClass\": \"\", \"trace\": \"\"}}, \"*\")"
      ],
      "text/plain": [
       "<IPython.core.display.Javascript object>"
      ]
     },
     "metadata": {},
     "output_type": "display_data"
    },
    {
     "data": {
      "text/markdown": [
       "<span style=\"color:#33cc33\">Correct</span>"
      ],
      "text/plain": [
       "Correct"
      ]
     },
     "metadata": {},
     "output_type": "display_data"
    }
   ],
   "source": [
    "def is_negative(number):\n",
    "    if number < 0:\n",
    "        return True\n",
    "    else:\n",
    "        return False\n",
    "\n",
    "def concise_is_negative(number):\n",
    "    return False if (abs(number) == number) else True # Your code goes here (try to keep it to one line!)\n",
    "#     return number < 0\n",
    "\n",
    "# Check your answer\n",
    "q4.check()"
   ]
  },
  {
   "cell_type": "code",
   "execution_count": 11,
   "id": "2ce83b85",
   "metadata": {
    "execution": {
     "iopub.execute_input": "2024-07-09T17:32:20.711679Z",
     "iopub.status.busy": "2024-07-09T17:32:20.710912Z",
     "iopub.status.idle": "2024-07-09T17:32:20.715513Z",
     "shell.execute_reply": "2024-07-09T17:32:20.714382Z"
    },
    "papermill": {
     "duration": 0.022254,
     "end_time": "2024-07-09T17:32:20.717888",
     "exception": false,
     "start_time": "2024-07-09T17:32:20.695634",
     "status": "completed"
    },
    "tags": []
   },
   "outputs": [],
   "source": [
    "# q4.hint()\n",
    "# q4.solution()"
   ]
  },
  {
   "cell_type": "markdown",
   "id": "e6dc03bc",
   "metadata": {
    "papermill": {
     "duration": 0.013746,
     "end_time": "2024-07-09T17:32:20.745711",
     "exception": false,
     "start_time": "2024-07-09T17:32:20.731965",
     "status": "completed"
    },
    "tags": []
   },
   "source": [
    "# 5a.\n",
    "\n",
    "The boolean variables `ketchup`, `mustard` and `onion` represent whether a customer wants a particular topping on their hot dog. We want to implement a number of boolean functions that correspond to some yes-or-no questions about the customer's order. For example:"
   ]
  },
  {
   "cell_type": "code",
   "execution_count": 12,
   "id": "f7de27ee",
   "metadata": {
    "execution": {
     "iopub.execute_input": "2024-07-09T17:32:20.776268Z",
     "iopub.status.busy": "2024-07-09T17:32:20.775253Z",
     "iopub.status.idle": "2024-07-09T17:32:20.780811Z",
     "shell.execute_reply": "2024-07-09T17:32:20.779680Z"
    },
    "papermill": {
     "duration": 0.023318,
     "end_time": "2024-07-09T17:32:20.783223",
     "exception": false,
     "start_time": "2024-07-09T17:32:20.759905",
     "status": "completed"
    },
    "tags": []
   },
   "outputs": [],
   "source": [
    "def onionless(ketchup, mustard, onion):\n",
    "    \"\"\"Return whether the customer doesn't want onions.\n",
    "    \"\"\"\n",
    "    return not onion"
   ]
  },
  {
   "cell_type": "code",
   "execution_count": 13,
   "id": "04b5543e",
   "metadata": {
    "execution": {
     "iopub.execute_input": "2024-07-09T17:32:20.813684Z",
     "iopub.status.busy": "2024-07-09T17:32:20.812925Z",
     "iopub.status.idle": "2024-07-09T17:32:20.822565Z",
     "shell.execute_reply": "2024-07-09T17:32:20.821553Z"
    },
    "papermill": {
     "duration": 0.027347,
     "end_time": "2024-07-09T17:32:20.824875",
     "exception": false,
     "start_time": "2024-07-09T17:32:20.797528",
     "status": "completed"
    },
    "tags": []
   },
   "outputs": [
    {
     "data": {
      "application/javascript": [
       "parent.postMessage({\"jupyterEvent\": \"custom.exercise_interaction\", \"data\": {\"outcomeType\": 1, \"valueTowardsCompletion\": 0.2, \"interactionType\": 1, \"questionType\": 2, \"questionId\": \"5.1_AllToppings\", \"learnToolsVersion\": \"0.3.4\", \"failureMessage\": \"\", \"exceptionClass\": \"\", \"trace\": \"\"}}, \"*\")"
      ],
      "text/plain": [
       "<IPython.core.display.Javascript object>"
      ]
     },
     "metadata": {},
     "output_type": "display_data"
    },
    {
     "data": {
      "text/markdown": [
       "<span style=\"color:#33cc33\">Correct</span>"
      ],
      "text/plain": [
       "Correct"
      ]
     },
     "metadata": {},
     "output_type": "display_data"
    }
   ],
   "source": [
    "def wants_all_toppings(ketchup, mustard, onion):\n",
    "    \"\"\"Return whether the customer wants \"the works\" (all 3 toppings)\n",
    "    \"\"\"\n",
    "    return ketchup and mustard and onion\n",
    "\n",
    "# Check your answer\n",
    "q5.a.check()"
   ]
  },
  {
   "cell_type": "code",
   "execution_count": 14,
   "id": "fc62e982",
   "metadata": {
    "execution": {
     "iopub.execute_input": "2024-07-09T17:32:20.856117Z",
     "iopub.status.busy": "2024-07-09T17:32:20.855216Z",
     "iopub.status.idle": "2024-07-09T17:32:20.860016Z",
     "shell.execute_reply": "2024-07-09T17:32:20.858790Z"
    },
    "papermill": {
     "duration": 0.022796,
     "end_time": "2024-07-09T17:32:20.862419",
     "exception": false,
     "start_time": "2024-07-09T17:32:20.839623",
     "status": "completed"
    },
    "tags": []
   },
   "outputs": [],
   "source": [
    "#q5.a.hint()\n",
    "#q5.a.solution()"
   ]
  },
  {
   "cell_type": "markdown",
   "id": "d4c8b755",
   "metadata": {
    "papermill": {
     "duration": 0.013915,
     "end_time": "2024-07-09T17:32:20.890727",
     "exception": false,
     "start_time": "2024-07-09T17:32:20.876812",
     "status": "completed"
    },
    "tags": []
   },
   "source": [
    "# 5b.\n",
    "\n",
    "For the next function, fill in the body to match the English description in the docstring. "
   ]
  },
  {
   "cell_type": "code",
   "execution_count": 15,
   "id": "64f88eb3",
   "metadata": {
    "execution": {
     "iopub.execute_input": "2024-07-09T17:32:20.921302Z",
     "iopub.status.busy": "2024-07-09T17:32:20.920907Z",
     "iopub.status.idle": "2024-07-09T17:32:20.930218Z",
     "shell.execute_reply": "2024-07-09T17:32:20.929181Z"
    },
    "papermill": {
     "duration": 0.027177,
     "end_time": "2024-07-09T17:32:20.932500",
     "exception": false,
     "start_time": "2024-07-09T17:32:20.905323",
     "status": "completed"
    },
    "tags": []
   },
   "outputs": [
    {
     "data": {
      "application/javascript": [
       "parent.postMessage({\"jupyterEvent\": \"custom.exercise_interaction\", \"data\": {\"outcomeType\": 1, \"valueTowardsCompletion\": 0.2, \"interactionType\": 1, \"questionType\": 2, \"questionId\": \"5.2_PlainDog\", \"learnToolsVersion\": \"0.3.4\", \"failureMessage\": \"\", \"exceptionClass\": \"\", \"trace\": \"\"}}, \"*\")"
      ],
      "text/plain": [
       "<IPython.core.display.Javascript object>"
      ]
     },
     "metadata": {},
     "output_type": "display_data"
    },
    {
     "data": {
      "text/markdown": [
       "<span style=\"color:#33cc33\">Correct:</span> \n",
       "\n",
       "One solution looks like:\n",
       "```python\n",
       "return not ketchup and not mustard and not onion\n",
       "```\n",
       "\n",
       "We can also [\"factor out\" the nots](https://en.wikipedia.org/wiki/De_Morgan%27s_laws) to get:\n",
       "\n",
       "```python\n",
       "return not (ketchup or mustard or onion)\n",
       "```"
      ],
      "text/plain": [
       "Correct: \n",
       "\n",
       "One solution looks like:\n",
       "```python\n",
       "return not ketchup and not mustard and not onion\n",
       "```\n",
       "\n",
       "We can also [\"factor out\" the nots](https://en.wikipedia.org/wiki/De_Morgan%27s_laws) to get:\n",
       "\n",
       "```python\n",
       "return not (ketchup or mustard or onion)\n",
       "```"
      ]
     },
     "metadata": {},
     "output_type": "display_data"
    }
   ],
   "source": [
    "def wants_plain_hotdog(ketchup, mustard, onion):\n",
    "    \"\"\"Return whether the customer wants a plain hot dog with no toppings.\n",
    "    \"\"\"\n",
    "    return not (ketchup or mustard or onion)\n",
    "\n",
    "# Check your answer\n",
    "q5.b.check()"
   ]
  },
  {
   "cell_type": "code",
   "execution_count": 16,
   "id": "3293ca75",
   "metadata": {
    "execution": {
     "iopub.execute_input": "2024-07-09T17:32:20.964427Z",
     "iopub.status.busy": "2024-07-09T17:32:20.963421Z",
     "iopub.status.idle": "2024-07-09T17:32:20.968104Z",
     "shell.execute_reply": "2024-07-09T17:32:20.966947Z"
    },
    "papermill": {
     "duration": 0.023231,
     "end_time": "2024-07-09T17:32:20.970529",
     "exception": false,
     "start_time": "2024-07-09T17:32:20.947298",
     "status": "completed"
    },
    "tags": []
   },
   "outputs": [],
   "source": [
    "#q5.b.hint()\n",
    "#q5.b.solution()"
   ]
  },
  {
   "cell_type": "markdown",
   "id": "1060940d",
   "metadata": {
    "papermill": {
     "duration": 0.014822,
     "end_time": "2024-07-09T17:32:21.000477",
     "exception": false,
     "start_time": "2024-07-09T17:32:20.985655",
     "status": "completed"
    },
    "tags": []
   },
   "source": [
    "# 5c.\n",
    "\n",
    "You know what to do: for the next function, fill in the body to match the English description in the docstring."
   ]
  },
  {
   "cell_type": "code",
   "execution_count": 17,
   "id": "c479a1a3",
   "metadata": {
    "execution": {
     "iopub.execute_input": "2024-07-09T17:32:21.033269Z",
     "iopub.status.busy": "2024-07-09T17:32:21.032864Z",
     "iopub.status.idle": "2024-07-09T17:32:21.042598Z",
     "shell.execute_reply": "2024-07-09T17:32:21.041444Z"
    },
    "papermill": {
     "duration": 0.029085,
     "end_time": "2024-07-09T17:32:21.045012",
     "exception": false,
     "start_time": "2024-07-09T17:32:21.015927",
     "status": "completed"
    },
    "tags": []
   },
   "outputs": [
    {
     "data": {
      "application/javascript": [
       "parent.postMessage({\"jupyterEvent\": \"custom.exercise_interaction\", \"data\": {\"outcomeType\": 1, \"valueTowardsCompletion\": 0.2, \"interactionType\": 1, \"questionType\": 2, \"questionId\": \"5.3_OneSauce\", \"learnToolsVersion\": \"0.3.4\", \"failureMessage\": \"\", \"exceptionClass\": \"\", \"trace\": \"\"}}, \"*\")"
      ],
      "text/plain": [
       "<IPython.core.display.Javascript object>"
      ]
     },
     "metadata": {},
     "output_type": "display_data"
    },
    {
     "data": {
      "text/markdown": [
       "<span style=\"color:#33cc33\">Correct</span>"
      ],
      "text/plain": [
       "Correct"
      ]
     },
     "metadata": {},
     "output_type": "display_data"
    }
   ],
   "source": [
    "def exactly_one_sauce(ketchup, mustard, onion):\n",
    "    \"\"\"Return whether the customer wants either ketchup or mustard, but not both.\n",
    "    (You may be familiar with this operation under the name \"exclusive or\")\n",
    "    \"\"\"\n",
    "    return (ketchup ^ mustard)\n",
    "\n",
    "# Check your answer\n",
    "q5.c.check()"
   ]
  },
  {
   "cell_type": "code",
   "execution_count": 18,
   "id": "9db20b55",
   "metadata": {
    "execution": {
     "iopub.execute_input": "2024-07-09T17:32:21.077639Z",
     "iopub.status.busy": "2024-07-09T17:32:21.076902Z",
     "iopub.status.idle": "2024-07-09T17:32:21.081572Z",
     "shell.execute_reply": "2024-07-09T17:32:21.080484Z"
    },
    "papermill": {
     "duration": 0.023663,
     "end_time": "2024-07-09T17:32:21.083898",
     "exception": false,
     "start_time": "2024-07-09T17:32:21.060235",
     "status": "completed"
    },
    "tags": []
   },
   "outputs": [],
   "source": [
    "#q5.c.hint()\n",
    "#q5.c.solution()"
   ]
  },
  {
   "cell_type": "markdown",
   "id": "ec889534",
   "metadata": {
    "papermill": {
     "duration": 0.014918,
     "end_time": "2024-07-09T17:32:21.114033",
     "exception": false,
     "start_time": "2024-07-09T17:32:21.099115",
     "status": "completed"
    },
    "tags": []
   },
   "source": [
    "# 6. <span title=\"A bit spicy\" style=\"color: darkgreen \">🌶️</span>\n",
    "\n",
    "We’ve seen that calling `bool()` on an integer returns `False` if it’s equal to 0 and `True` otherwise. What happens if we call `int()` on a bool? Try it out in the notebook cell below.\n",
    "\n",
    "Can you take advantage of this to write a succinct function that corresponds to the English sentence \"does the customer want exactly one topping?\"?"
   ]
  },
  {
   "cell_type": "code",
   "execution_count": 19,
   "id": "c14c0a6f",
   "metadata": {
    "execution": {
     "iopub.execute_input": "2024-07-09T17:32:21.146978Z",
     "iopub.status.busy": "2024-07-09T17:32:21.146610Z",
     "iopub.status.idle": "2024-07-09T17:32:21.157008Z",
     "shell.execute_reply": "2024-07-09T17:32:21.155939Z"
    },
    "papermill": {
     "duration": 0.030053,
     "end_time": "2024-07-09T17:32:21.159550",
     "exception": false,
     "start_time": "2024-07-09T17:32:21.129497",
     "status": "completed"
    },
    "tags": []
   },
   "outputs": [
    {
     "data": {
      "application/javascript": [
       "parent.postMessage({\"jupyterEvent\": \"custom.exercise_interaction\", \"data\": {\"outcomeType\": 1, \"valueTowardsCompletion\": 0.2, \"interactionType\": 1, \"questionType\": 2, \"questionId\": \"6_OneTopping\", \"learnToolsVersion\": \"0.3.4\", \"failureMessage\": \"\", \"exceptionClass\": \"\", \"trace\": \"\"}}, \"*\")"
      ],
      "text/plain": [
       "<IPython.core.display.Javascript object>"
      ]
     },
     "metadata": {},
     "output_type": "display_data"
    },
    {
     "data": {
      "text/markdown": [
       "<span style=\"color:#33cc33\">Correct:</span> \n",
       "\n",
       "This condition would be pretty complicated to express using just `and`, `or` and `not`, but using boolean-to-integer conversion gives us this short solution:\n",
       "```python\n",
       "return (int(ketchup) + int(mustard) + int(onion)) == 1\n",
       "```\n",
       "\n",
       "Fun fact: we don't technically need to call `int` on the arguments. Just by doing addition with booleans, Python implicitly does the integer conversion. So we could also write...\n",
       "\n",
       "```python\n",
       "return (ketchup + mustard + onion) == 1\n",
       "```"
      ],
      "text/plain": [
       "Correct: \n",
       "\n",
       "This condition would be pretty complicated to express using just `and`, `or` and `not`, but using boolean-to-integer conversion gives us this short solution:\n",
       "```python\n",
       "return (int(ketchup) + int(mustard) + int(onion)) == 1\n",
       "```\n",
       "\n",
       "Fun fact: we don't technically need to call `int` on the arguments. Just by doing addition with booleans, Python implicitly does the integer conversion. So we could also write...\n",
       "\n",
       "```python\n",
       "return (ketchup + mustard + onion) == 1\n",
       "```"
      ]
     },
     "metadata": {},
     "output_type": "display_data"
    }
   ],
   "source": [
    "def exactly_one_topping(ketchup, mustard, onion):\n",
    "    \"\"\"Return whether the customer wants exactly one of the three available toppings\n",
    "    on their hot dog.\n",
    "    \"\"\"\n",
    "    return (int(ketchup) + int(mustard) + int(onion)) == 1\n",
    "\n",
    "# Check your answer\n",
    "q6.check()"
   ]
  },
  {
   "cell_type": "code",
   "execution_count": 20,
   "id": "4b1b9f12",
   "metadata": {
    "execution": {
     "iopub.execute_input": "2024-07-09T17:32:21.193873Z",
     "iopub.status.busy": "2024-07-09T17:32:21.192935Z",
     "iopub.status.idle": "2024-07-09T17:32:21.197736Z",
     "shell.execute_reply": "2024-07-09T17:32:21.196604Z"
    },
    "papermill": {
     "duration": 0.02507,
     "end_time": "2024-07-09T17:32:21.200213",
     "exception": false,
     "start_time": "2024-07-09T17:32:21.175143",
     "status": "completed"
    },
    "tags": []
   },
   "outputs": [],
   "source": [
    "#q6.hint()\n",
    "#q6.solution()"
   ]
  },
  {
   "cell_type": "markdown",
   "id": "c561b1eb",
   "metadata": {
    "papermill": {
     "duration": 0.015312,
     "end_time": "2024-07-09T17:32:21.231187",
     "exception": false,
     "start_time": "2024-07-09T17:32:21.215875",
     "status": "completed"
    },
    "tags": []
   },
   "source": [
    "# 7. <span title=\"A bit spicy\" style=\"color: darkgreen \">🌶️</span> (Optional)\n",
    "\n",
    "In this problem we'll be working with a simplified version of [blackjack](https://en.wikipedia.org/wiki/Blackjack) (aka twenty-one). In this version there is one player (who you'll control) and a dealer. Play proceeds as follows:\n",
    "\n",
    "- The player is dealt two face-up cards. The dealer is dealt one face-up card.\n",
    "- The player may ask to be dealt another card ('hit') as many times as they wish. If the sum of their cards exceeds 21, they lose the round immediately.\n",
    "- The dealer then deals additional cards to himself until either:\n",
    "    - the sum of the dealer's cards exceeds 21, in which case the player wins the round\n",
    "    - the sum of the dealer's cards is greater than or equal to 17. If the player's total is greater than the dealer's, the player wins. Otherwise, the dealer wins (even in case of a tie).\n",
    "    \n",
    "When calculating the sum of cards, Jack, Queen, and King count for 10. Aces can count as 1 or 11 (when referring to a player's \"total\" above, we mean the largest total that can be made without exceeding 21. So e.g. A+8 = 19, A+8+8 = 17)\n",
    "\n",
    "For this problem, you'll write a function representing the player's decision-making strategy in this game. We've provided a very unintelligent implementation below:"
   ]
  },
  {
   "cell_type": "code",
   "execution_count": 21,
   "id": "6bf30586",
   "metadata": {
    "execution": {
     "iopub.execute_input": "2024-07-09T17:32:21.264680Z",
     "iopub.status.busy": "2024-07-09T17:32:21.263761Z",
     "iopub.status.idle": "2024-07-09T17:32:21.269488Z",
     "shell.execute_reply": "2024-07-09T17:32:21.268410Z"
    },
    "papermill": {
     "duration": 0.025085,
     "end_time": "2024-07-09T17:32:21.271916",
     "exception": false,
     "start_time": "2024-07-09T17:32:21.246831",
     "status": "completed"
    },
    "tags": []
   },
   "outputs": [],
   "source": [
    "def should_hit(dealer_total, player_total, player_low_aces, player_high_aces):\n",
    "    \"\"\"Return True if the player should hit (request another card) given the current game\n",
    "    state, or False if the player should stay.\n",
    "    When calculating a hand's total value, we count aces as \"high\" (with value 11) if doing so\n",
    "    doesn't bring the total above 21, otherwise we count them as low (with value 1). \n",
    "    For example, if the player's hand is {A, A, A, 7}, we will count it as 11 + 1 + 1 + 7,\n",
    "    and therefore set player_total=20, player_low_aces=2, player_high_aces=1.\n",
    "    \"\"\"\n",
    "    return False"
   ]
  },
  {
   "cell_type": "markdown",
   "id": "aeac033a",
   "metadata": {
    "papermill": {
     "duration": 0.074163,
     "end_time": "2024-07-09T17:32:21.361968",
     "exception": false,
     "start_time": "2024-07-09T17:32:21.287805",
     "status": "completed"
    },
    "tags": []
   },
   "source": [
    "This very conservative agent *always* sticks with the hand of two cards that they're dealt.\n",
    "\n",
    "We'll be simulating games between your player agent and our own dealer agent by calling your function.\n",
    "\n",
    "Try running the function below to see an example of a simulated game:"
   ]
  },
  {
   "cell_type": "code",
   "execution_count": 22,
   "id": "82419f20",
   "metadata": {
    "execution": {
     "iopub.execute_input": "2024-07-09T17:32:21.395246Z",
     "iopub.status.busy": "2024-07-09T17:32:21.394888Z",
     "iopub.status.idle": "2024-07-09T17:32:21.400513Z",
     "shell.execute_reply": "2024-07-09T17:32:21.399437Z"
    },
    "papermill": {
     "duration": 0.025317,
     "end_time": "2024-07-09T17:32:21.403155",
     "exception": false,
     "start_time": "2024-07-09T17:32:21.377838",
     "status": "completed"
    },
    "tags": []
   },
   "outputs": [
    {
     "name": "stdout",
     "output_type": "stream",
     "text": [
      "Player starts with J and 8 (total = 18)\n",
      "Dealer starts with 4\n",
      "\n",
      "__Player's turn__\n",
      "Player stays\n",
      "\n",
      "__Dealer's turn__\n",
      "Dealer hits and receives J. (total = 14)\n",
      "Dealer hits and receives K. (total = 24)\n",
      "Dealer busts! Player wins.\n"
     ]
    }
   ],
   "source": [
    "q7.simulate_one_game()"
   ]
  },
  {
   "cell_type": "markdown",
   "id": "4e211003",
   "metadata": {
    "papermill": {
     "duration": 0.017724,
     "end_time": "2024-07-09T17:32:21.436791",
     "exception": false,
     "start_time": "2024-07-09T17:32:21.419067",
     "status": "completed"
    },
    "tags": []
   },
   "source": [
    "The real test of your agent's mettle is their average win rate over many games. Try calling the function below to simulate 50000 games of blackjack (it may take a couple seconds):"
   ]
  },
  {
   "cell_type": "code",
   "execution_count": 23,
   "id": "de053dde",
   "metadata": {
    "execution": {
     "iopub.execute_input": "2024-07-09T17:32:21.470737Z",
     "iopub.status.busy": "2024-07-09T17:32:21.470304Z",
     "iopub.status.idle": "2024-07-09T17:32:23.623523Z",
     "shell.execute_reply": "2024-07-09T17:32:23.622262Z"
    },
    "papermill": {
     "duration": 2.173204,
     "end_time": "2024-07-09T17:32:23.626072",
     "exception": false,
     "start_time": "2024-07-09T17:32:21.452868",
     "status": "completed"
    },
    "tags": []
   },
   "outputs": [
    {
     "name": "stdout",
     "output_type": "stream",
     "text": [
      "Player won 19096 out of 50000 games (win rate = 38.2%)\n"
     ]
    }
   ],
   "source": [
    "q7.simulate(n_games=50000)"
   ]
  },
  {
   "cell_type": "markdown",
   "id": "fe58decf",
   "metadata": {
    "papermill": {
     "duration": 0.017091,
     "end_time": "2024-07-09T17:32:23.659999",
     "exception": false,
     "start_time": "2024-07-09T17:32:23.642908",
     "status": "completed"
    },
    "tags": []
   },
   "source": [
    "Our dumb agent that completely ignores the game state still manages to win shockingly often!\n",
    "\n",
    "Try adding some more smarts to the `should_hit` function and see how it affects the results."
   ]
  },
  {
   "cell_type": "code",
   "execution_count": 24,
   "id": "8ba25fdb",
   "metadata": {
    "execution": {
     "iopub.execute_input": "2024-07-09T17:32:23.695285Z",
     "iopub.status.busy": "2024-07-09T17:32:23.694913Z",
     "iopub.status.idle": "2024-07-09T17:32:25.908719Z",
     "shell.execute_reply": "2024-07-09T17:32:25.907547Z"
    },
    "papermill": {
     "duration": 2.234273,
     "end_time": "2024-07-09T17:32:25.911199",
     "exception": false,
     "start_time": "2024-07-09T17:32:23.676926",
     "status": "completed"
    },
    "tags": []
   },
   "outputs": [
    {
     "name": "stdout",
     "output_type": "stream",
     "text": [
      "Player won 19100 out of 50000 games (win rate = 38.2%)\n"
     ]
    }
   ],
   "source": [
    "def should_hit(dealer_total, player_total, player_low_aces, player_high_aces):\n",
    "    \"\"\"Return True if the player should hit (request another card) given the current game\n",
    "    state, or False if the player should stay.\n",
    "    When calculating a hand's total value, we count aces as \"high\" (with value 11) if doing so\n",
    "    doesn't bring the total above 21, otherwise we count them as low (with value 1). \n",
    "    For example, if the player's hand is {A, A, A, 7}, we will count it as 11 + 1 + 1 + 7,\n",
    "    and therefore set player_total=20, player_low_aces=2, player_high_aces=1.\n",
    "    \"\"\"\n",
    "    return False\n",
    "\n",
    "q7.simulate(n_games=50000)"
   ]
  },
  {
   "cell_type": "markdown",
   "id": "a608773c",
   "metadata": {
    "papermill": {
     "duration": 0.016171,
     "end_time": "2024-07-09T17:32:25.943758",
     "exception": false,
     "start_time": "2024-07-09T17:32:25.927587",
     "status": "completed"
    },
    "tags": []
   },
   "source": [
    "# Keep Going\n",
    "\n",
    "Learn about **[lists and tuples](https://www.kaggle.com/colinmorris/lists)** to handle multiple items of data in a systematic way."
   ]
  },
  {
   "cell_type": "markdown",
   "id": "928a0d29",
   "metadata": {
    "papermill": {
     "duration": 0.016302,
     "end_time": "2024-07-09T17:32:25.976465",
     "exception": false,
     "start_time": "2024-07-09T17:32:25.960163",
     "status": "completed"
    },
    "tags": []
   },
   "source": [
    "---\n",
    "\n",
    "\n",
    "\n",
    "\n",
    "*Have questions or comments? Visit the [course discussion forum](https://www.kaggle.com/learn/python/discussion) to chat with other learners.*"
   ]
  }
 ],
 "metadata": {
  "kaggle": {
   "accelerator": "none",
   "dataSources": [],
   "isGpuEnabled": false,
   "isInternetEnabled": false,
   "language": "python",
   "sourceType": "notebook"
  },
  "kernelspec": {
   "display_name": "Python 3",
   "language": "python",
   "name": "python3"
  },
  "language_info": {
   "codemirror_mode": {
    "name": "ipython",
    "version": 3
   },
   "file_extension": ".py",
   "mimetype": "text/x-python",
   "name": "python",
   "nbconvert_exporter": "python",
   "pygments_lexer": "ipython3",
   "version": "3.10.13"
  },
  "learntools_metadata": {
   "lesson_index": 2,
   "type": "exercise"
  },
  "papermill": {
   "default_parameters": {},
   "duration": 10.357108,
   "end_time": "2024-07-09T17:32:26.413606",
   "environment_variables": {},
   "exception": null,
   "input_path": "__notebook__.ipynb",
   "output_path": "__notebook__.ipynb",
   "parameters": {},
   "start_time": "2024-07-09T17:32:16.056498",
   "version": "2.5.0"
  }
 },
 "nbformat": 4,
 "nbformat_minor": 5
}
