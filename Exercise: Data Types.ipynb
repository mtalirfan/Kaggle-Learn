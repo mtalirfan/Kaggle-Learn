{
 "cells": [
  {
   "cell_type": "markdown",
   "id": "08a44b98",
   "metadata": {
    "papermill": {
     "duration": 0.006675,
     "end_time": "2024-07-09T17:20:39.461074",
     "exception": false,
     "start_time": "2024-07-09T17:20:39.454399",
     "status": "completed"
    },
    "tags": []
   },
   "source": [
    "**This notebook is an exercise in the [Intro to Programming](https://www.kaggle.com/learn/intro-to-programming) course.  You can reference the tutorial at [this link](https://www.kaggle.com/alexisbcook/data-types).**\n",
    "\n",
    "---\n"
   ]
  },
  {
   "cell_type": "markdown",
   "id": "b588498d",
   "metadata": {
    "papermill": {
     "duration": 0.005846,
     "end_time": "2024-07-09T17:20:39.473482",
     "exception": false,
     "start_time": "2024-07-09T17:20:39.467636",
     "status": "completed"
    },
    "tags": []
   },
   "source": [
    "In the tutorial, you learned about four different data types: floats, integers, strings, and booleans.  In this exercise, you'll experiment with them.\n",
    "\n",
    "# Set up the notebook\n",
    "\n",
    "Run the next code cell without changes to set up the notebook."
   ]
  },
  {
   "cell_type": "code",
   "execution_count": 1,
   "id": "5f184a28",
   "metadata": {
    "execution": {
     "iopub.execute_input": "2024-07-09T17:20:39.487732Z",
     "iopub.status.busy": "2024-07-09T17:20:39.486989Z",
     "iopub.status.idle": "2024-07-09T17:20:40.321690Z",
     "shell.execute_reply": "2024-07-09T17:20:40.320642Z"
    },
    "papermill": {
     "duration": 0.844415,
     "end_time": "2024-07-09T17:20:40.323926",
     "exception": false,
     "start_time": "2024-07-09T17:20:39.479511",
     "status": "completed"
    },
    "tags": []
   },
   "outputs": [
    {
     "name": "stdout",
     "output_type": "stream",
     "text": [
      "Setup complete.\n"
     ]
    }
   ],
   "source": [
    "# Set up the exercise\n",
    "from learntools.core import binder\n",
    "binder.bind(globals())\n",
    "from learntools.intro_to_programming.ex3 import *\n",
    "print('Setup complete.')"
   ]
  },
  {
   "cell_type": "markdown",
   "id": "39d0463b",
   "metadata": {
    "papermill": {
     "duration": 0.005805,
     "end_time": "2024-07-09T17:20:40.335951",
     "exception": false,
     "start_time": "2024-07-09T17:20:40.330146",
     "status": "completed"
    },
    "tags": []
   },
   "source": [
    "# Question 1\n",
    "\n",
    "You have seen how to convert a float to an integer with the `int` function.  Try this out yourself by running the code cell below."
   ]
  },
  {
   "cell_type": "code",
   "execution_count": 2,
   "id": "21169224",
   "metadata": {
    "execution": {
     "iopub.execute_input": "2024-07-09T17:20:40.350449Z",
     "iopub.status.busy": "2024-07-09T17:20:40.349344Z",
     "iopub.status.idle": "2024-07-09T17:20:40.356107Z",
     "shell.execute_reply": "2024-07-09T17:20:40.354913Z"
    },
    "papermill": {
     "duration": 0.016338,
     "end_time": "2024-07-09T17:20:40.358290",
     "exception": false,
     "start_time": "2024-07-09T17:20:40.341952",
     "status": "completed"
    },
    "tags": []
   },
   "outputs": [
    {
     "name": "stdout",
     "output_type": "stream",
     "text": [
      "1.0\n",
      "<class 'float'>\n",
      "1\n",
      "<class 'int'>\n"
     ]
    }
   ],
   "source": [
    "# Define a float\n",
    "y = 1.\n",
    "print(y)\n",
    "print(type(y))\n",
    "\n",
    "# Convert float to integer with the int function\n",
    "z = int(y)\n",
    "print(z)\n",
    "print(type(z))"
   ]
  },
  {
   "cell_type": "markdown",
   "id": "e61990fe",
   "metadata": {
    "papermill": {
     "duration": 0.005843,
     "end_time": "2024-07-09T17:20:40.370393",
     "exception": false,
     "start_time": "2024-07-09T17:20:40.364550",
     "status": "completed"
    },
    "tags": []
   },
   "source": [
    "In this case, the float you are using has no numbers after the decimal.  \n",
    "- But what happens when you try to convert a float with a fractional part to an integer?  \n",
    "- How does the outcome of the `int` function change for positive and negative numbers?\n",
    "\n",
    "Use the next code cell to investigate and answer these questions.  Feel free to add or remove any lines of code -- it is your workspace!"
   ]
  },
  {
   "cell_type": "code",
   "execution_count": 3,
   "id": "67481f3c",
   "metadata": {
    "execution": {
     "iopub.execute_input": "2024-07-09T17:20:40.384145Z",
     "iopub.status.busy": "2024-07-09T17:20:40.383749Z",
     "iopub.status.idle": "2024-07-09T17:20:40.389330Z",
     "shell.execute_reply": "2024-07-09T17:20:40.388397Z"
    },
    "papermill": {
     "duration": 0.015261,
     "end_time": "2024-07-09T17:20:40.391810",
     "exception": false,
     "start_time": "2024-07-09T17:20:40.376549",
     "status": "completed"
    },
    "tags": []
   },
   "outputs": [
    {
     "name": "stdout",
     "output_type": "stream",
     "text": [
      "1\n",
      "1\n",
      "-3\n",
      "-2\n"
     ]
    }
   ],
   "source": [
    "# Uncomment and run this code to get started!\n",
    "print(int(1.2321))\n",
    "print(int(1.747))\n",
    "print(int(-3.94535))\n",
    "print(int(-2.19774))"
   ]
  },
  {
   "cell_type": "markdown",
   "id": "883d24c4",
   "metadata": {
    "papermill": {
     "duration": 0.005934,
     "end_time": "2024-07-09T17:20:40.403907",
     "exception": false,
     "start_time": "2024-07-09T17:20:40.397973",
     "status": "completed"
    },
    "tags": []
   },
   "source": [
    "Once you have an answer, run the code cell below to see the solution.  Viewing the solution will give you credit for answering the problem."
   ]
  },
  {
   "cell_type": "code",
   "execution_count": 4,
   "id": "58c2a77c",
   "metadata": {
    "execution": {
     "iopub.execute_input": "2024-07-09T17:20:40.417846Z",
     "iopub.status.busy": "2024-07-09T17:20:40.417459Z",
     "iopub.status.idle": "2024-07-09T17:20:40.426559Z",
     "shell.execute_reply": "2024-07-09T17:20:40.425396Z"
    },
    "papermill": {
     "duration": 0.018665,
     "end_time": "2024-07-09T17:20:40.428674",
     "exception": false,
     "start_time": "2024-07-09T17:20:40.410009",
     "status": "completed"
    },
    "tags": []
   },
   "outputs": [
    {
     "data": {
      "application/javascript": [
       "parent.postMessage({\"jupyterEvent\": \"custom.exercise_interaction\", \"data\": {\"outcomeType\": 1, \"valueTowardsCompletion\": 0.2, \"interactionType\": 1, \"questionType\": 4, \"questionId\": \"1_FloatToInt\", \"learnToolsVersion\": \"0.3.4\", \"failureMessage\": \"\", \"exceptionClass\": \"\", \"trace\": \"\"}}, \"*\")"
      ],
      "text/plain": [
       "<IPython.core.display.Javascript object>"
      ]
     },
     "metadata": {},
     "output_type": "display_data"
    },
    {
     "data": {
      "text/markdown": [
       "<span style=\"color:#33cc33\">Correct:</span> \n",
       "\n",
       "Negative floats are always rounded UP to the closest integer (for instance, both -1.1 and -1.9 are rounded up to -1). Positive floats are always rounded DOWN to the closest integer (for instance, 2.1 and 2.9 are rounded down to 2)."
      ],
      "text/plain": [
       "Correct: \n",
       "\n",
       "Negative floats are always rounded UP to the closest integer (for instance, both -1.1 and -1.9 are rounded up to -1). Positive floats are always rounded DOWN to the closest integer (for instance, 2.1 and 2.9 are rounded down to 2)."
      ]
     },
     "metadata": {},
     "output_type": "display_data"
    }
   ],
   "source": [
    "# Check your answer (Run this code cell to receive credit!)\n",
    "q1.check()"
   ]
  },
  {
   "cell_type": "markdown",
   "id": "866e89b4",
   "metadata": {
    "papermill": {
     "duration": 0.006241,
     "end_time": "2024-07-09T17:20:40.441507",
     "exception": false,
     "start_time": "2024-07-09T17:20:40.435266",
     "status": "completed"
    },
    "tags": []
   },
   "source": [
    "# Question 2\n",
    "\n",
    "In the tutorial, you learned about booleans (which can take a value of `True` or `False`), in addition to integers, floats, and strings.  For this question, your goal is to determine what happens when you multiply a boolean by any of these data types.  Specifically, \n",
    "- What happens when you multiply an integer or float by `True`?  What happens when you multiply them by `False`?  How does the answer change if the numbers are positive or negative?\n",
    "- What happens when you multiply a string by `True`?  By `False`?\n",
    "\n",
    "Use the next code cell for your investigation. "
   ]
  },
  {
   "cell_type": "code",
   "execution_count": 5,
   "id": "3e321924",
   "metadata": {
    "execution": {
     "iopub.execute_input": "2024-07-09T17:20:40.456215Z",
     "iopub.status.busy": "2024-07-09T17:20:40.455842Z",
     "iopub.status.idle": "2024-07-09T17:20:40.461483Z",
     "shell.execute_reply": "2024-07-09T17:20:40.460443Z"
    },
    "papermill": {
     "duration": 0.015611,
     "end_time": "2024-07-09T17:20:40.463617",
     "exception": false,
     "start_time": "2024-07-09T17:20:40.448006",
     "status": "completed"
    },
    "tags": []
   },
   "outputs": [
    {
     "name": "stdout",
     "output_type": "stream",
     "text": [
      "3\n",
      "-3.1\n",
      "<class 'str'>\n",
      "0\n"
     ]
    }
   ],
   "source": [
    "# Uncomment and run this code to get started!\n",
    "print(3 * True)\n",
    "print(-3.1 * True)\n",
    "print(type(\"abc\" * False))\n",
    "print(len(\"abc\" * False))"
   ]
  },
  {
   "cell_type": "markdown",
   "id": "70ed06b5",
   "metadata": {
    "papermill": {
     "duration": 0.006206,
     "end_time": "2024-07-09T17:20:40.476406",
     "exception": false,
     "start_time": "2024-07-09T17:20:40.470200",
     "status": "completed"
    },
    "tags": []
   },
   "source": [
    "Once you have an answer, run the code cell below to see the solution.  Viewing the solution will give you credit for answering the problem."
   ]
  },
  {
   "cell_type": "code",
   "execution_count": 6,
   "id": "4aee7bca",
   "metadata": {
    "execution": {
     "iopub.execute_input": "2024-07-09T17:20:40.491211Z",
     "iopub.status.busy": "2024-07-09T17:20:40.490466Z",
     "iopub.status.idle": "2024-07-09T17:20:40.498642Z",
     "shell.execute_reply": "2024-07-09T17:20:40.497592Z"
    },
    "papermill": {
     "duration": 0.017955,
     "end_time": "2024-07-09T17:20:40.500787",
     "exception": false,
     "start_time": "2024-07-09T17:20:40.482832",
     "status": "completed"
    },
    "tags": []
   },
   "outputs": [
    {
     "data": {
      "application/javascript": [
       "parent.postMessage({\"jupyterEvent\": \"custom.exercise_interaction\", \"data\": {\"outcomeType\": 1, \"valueTowardsCompletion\": 0.2, \"interactionType\": 1, \"questionType\": 4, \"questionId\": \"2_MultiplyBooleans\", \"learnToolsVersion\": \"0.3.4\", \"failureMessage\": \"\", \"exceptionClass\": \"\", \"trace\": \"\"}}, \"*\")"
      ],
      "text/plain": [
       "<IPython.core.display.Javascript object>"
      ]
     },
     "metadata": {},
     "output_type": "display_data"
    },
    {
     "data": {
      "text/markdown": [
       "<span style=\"color:#33cc33\">Correct:</span> \n",
       "\n",
       "When you multiple an integer or float by a boolean with value `True`, it just returns that same integer or float (and is equivalent to multiplying by 1).  If you multiply an integer or float by a boolean with value `False`, it always returns 0.  This is true for both positive and negative numbers.  If you multiply a string by a boolean with value `True`, it just returns that same string.  And if you multiply a string by a boolean with value `False`, it returns an empty string (or a string with length zero)."
      ],
      "text/plain": [
       "Correct: \n",
       "\n",
       "When you multiple an integer or float by a boolean with value `True`, it just returns that same integer or float (and is equivalent to multiplying by 1).  If you multiply an integer or float by a boolean with value `False`, it always returns 0.  This is true for both positive and negative numbers.  If you multiply a string by a boolean with value `True`, it just returns that same string.  And if you multiply a string by a boolean with value `False`, it returns an empty string (or a string with length zero)."
      ]
     },
     "metadata": {},
     "output_type": "display_data"
    }
   ],
   "source": [
    "# Check your answer (Run this code cell to receive credit!)\n",
    "q2.check()"
   ]
  },
  {
   "cell_type": "markdown",
   "id": "f454d7ee",
   "metadata": {
    "papermill": {
     "duration": 0.006491,
     "end_time": "2024-07-09T17:20:40.514097",
     "exception": false,
     "start_time": "2024-07-09T17:20:40.507606",
     "status": "completed"
    },
    "tags": []
   },
   "source": [
    "# Question 3\n",
    "\n",
    "In this question, you will build off your work from the previous exercise to write a function that estimates the value of a house.\n",
    "\n",
    "Use the next code cell to create a function `get_expected_cost` that takes as input three variables:\n",
    "- `beds` - number of bedrooms (data type float)\n",
    "- `baths` - number of bathrooms (data type float)\n",
    "- `has_basement` - whether or not the house has a basement (data type boolean)\n",
    "\n",
    "It should return the expected cost of a house with those characteristics. Assume that:\n",
    "- the expected cost for a house with 0 bedrooms and 0 bathrooms, and no basement is 80000, \n",
    "- each bedroom adds 30000 to the expected cost,\n",
    "- each bathroom adds 10000 to the expected cost, and\n",
    "- a basement adds 40000 to the expected cost.\n",
    "\n",
    "For instance,\n",
    "- a house with 1 bedroom, 1 bathroom, and no basement has an expected cost of 80000 + 30000 + 10000 = 120000.  This value will be calculated with `get_expected_cost(1, 1, False)`.\n",
    "- a house with 2 bedrooms, 1 bathroom, and a basement has an expected cost of 80000 + 2*30000 + 10000 + 40000 = 190000.  This value will be calculated with `get_expected_cost(2, 1, True)`.\n",
    "\n",
    "Remember you can always get a hint by uncommenting `q3.hint()` in the code cell following the next!"
   ]
  },
  {
   "cell_type": "code",
   "execution_count": 7,
   "id": "f8b28858",
   "metadata": {
    "execution": {
     "iopub.execute_input": "2024-07-09T17:20:40.529697Z",
     "iopub.status.busy": "2024-07-09T17:20:40.528793Z",
     "iopub.status.idle": "2024-07-09T17:20:40.538916Z",
     "shell.execute_reply": "2024-07-09T17:20:40.537926Z"
    },
    "papermill": {
     "duration": 0.020113,
     "end_time": "2024-07-09T17:20:40.540927",
     "exception": false,
     "start_time": "2024-07-09T17:20:40.520814",
     "status": "completed"
    },
    "tags": []
   },
   "outputs": [
    {
     "data": {
      "application/javascript": [
       "parent.postMessage({\"jupyterEvent\": \"custom.exercise_interaction\", \"data\": {\"outcomeType\": 1, \"valueTowardsCompletion\": 0.2, \"interactionType\": 1, \"questionType\": 2, \"questionId\": \"3_EstimateHouseValueBool\", \"learnToolsVersion\": \"0.3.4\", \"failureMessage\": \"\", \"exceptionClass\": \"\", \"trace\": \"\"}}, \"*\")"
      ],
      "text/plain": [
       "<IPython.core.display.Javascript object>"
      ]
     },
     "metadata": {},
     "output_type": "display_data"
    },
    {
     "data": {
      "text/markdown": [
       "<span style=\"color:#33cc33\">Correct</span>"
      ],
      "text/plain": [
       "Correct"
      ]
     },
     "metadata": {},
     "output_type": "display_data"
    }
   ],
   "source": [
    "# TODO: Complete the function\n",
    "def get_expected_cost(beds, baths, has_basement):\n",
    "    value = 80000 + 30000*beds + 10000*baths + 40000*has_basement\n",
    "    return value\n",
    "\n",
    "# Check your answer \n",
    "q3.check()"
   ]
  },
  {
   "cell_type": "code",
   "execution_count": 8,
   "id": "317f3789",
   "metadata": {
    "execution": {
     "iopub.execute_input": "2024-07-09T17:20:40.558150Z",
     "iopub.status.busy": "2024-07-09T17:20:40.557480Z",
     "iopub.status.idle": "2024-07-09T17:20:40.561954Z",
     "shell.execute_reply": "2024-07-09T17:20:40.560936Z"
    },
    "papermill": {
     "duration": 0.015099,
     "end_time": "2024-07-09T17:20:40.564016",
     "exception": false,
     "start_time": "2024-07-09T17:20:40.548917",
     "status": "completed"
    },
    "tags": []
   },
   "outputs": [],
   "source": [
    "# Uncomment to see a hint\n",
    "#q3.hint()\n",
    "\n",
    "# Uncomment to view the solution\n",
    "#q3.solution()"
   ]
  },
  {
   "cell_type": "markdown",
   "id": "716912e5",
   "metadata": {
    "papermill": {
     "duration": 0.00685,
     "end_time": "2024-07-09T17:20:40.577951",
     "exception": false,
     "start_time": "2024-07-09T17:20:40.571101",
     "status": "completed"
    },
    "tags": []
   },
   "source": [
    "# Question 4\n",
    "\n",
    "We'll continue our study of boolean arithmetic.  For this question, your task is to provide a description of what happpens when you add booleans. \n",
    "\n",
    "Use the next code cell for your investigation.  Feel free to add or remove any lines of code - use it as your workspace!"
   ]
  },
  {
   "cell_type": "code",
   "execution_count": 9,
   "id": "a2ccb27b",
   "metadata": {
    "execution": {
     "iopub.execute_input": "2024-07-09T17:20:40.593755Z",
     "iopub.status.busy": "2024-07-09T17:20:40.593039Z",
     "iopub.status.idle": "2024-07-09T17:20:40.598667Z",
     "shell.execute_reply": "2024-07-09T17:20:40.597696Z"
    },
    "papermill": {
     "duration": 0.01598,
     "end_time": "2024-07-09T17:20:40.600883",
     "exception": false,
     "start_time": "2024-07-09T17:20:40.584903",
     "status": "completed"
    },
    "tags": []
   },
   "outputs": [
    {
     "name": "stdout",
     "output_type": "stream",
     "text": [
      "0\n",
      "1\n",
      "1\n",
      "2\n",
      "3\n"
     ]
    }
   ],
   "source": [
    "print(False + False)\n",
    "print(True + False)\n",
    "print(False + True)\n",
    "print(True + True)\n",
    "print(False + True + True + True)"
   ]
  },
  {
   "cell_type": "markdown",
   "id": "1ce1f712",
   "metadata": {
    "papermill": {
     "duration": 0.006964,
     "end_time": "2024-07-09T17:20:40.615034",
     "exception": false,
     "start_time": "2024-07-09T17:20:40.608070",
     "status": "completed"
    },
    "tags": []
   },
   "source": [
    "Once you have an answer, run the code cell below to see the solution.  Viewing the solution will give you credit for answering the problem."
   ]
  },
  {
   "cell_type": "code",
   "execution_count": 10,
   "id": "51c91bf9",
   "metadata": {
    "execution": {
     "iopub.execute_input": "2024-07-09T17:20:40.631273Z",
     "iopub.status.busy": "2024-07-09T17:20:40.630536Z",
     "iopub.status.idle": "2024-07-09T17:20:40.638417Z",
     "shell.execute_reply": "2024-07-09T17:20:40.637507Z"
    },
    "papermill": {
     "duration": 0.018085,
     "end_time": "2024-07-09T17:20:40.640364",
     "exception": false,
     "start_time": "2024-07-09T17:20:40.622279",
     "status": "completed"
    },
    "tags": []
   },
   "outputs": [
    {
     "data": {
      "application/javascript": [
       "parent.postMessage({\"jupyterEvent\": \"custom.exercise_interaction\", \"data\": {\"outcomeType\": 1, \"valueTowardsCompletion\": 0.2, \"interactionType\": 1, \"questionType\": 4, \"questionId\": \"4_AddingBooleans\", \"learnToolsVersion\": \"0.3.4\", \"failureMessage\": \"\", \"exceptionClass\": \"\", \"trace\": \"\"}}, \"*\")"
      ],
      "text/plain": [
       "<IPython.core.display.Javascript object>"
      ]
     },
     "metadata": {},
     "output_type": "display_data"
    },
    {
     "data": {
      "text/markdown": [
       "<span style=\"color:#33cc33\">Correct:</span> \n",
       "\n",
       "When you add booleans, adding `False` is equivalent to adding 0, and adding `True` is equivalent to adding 1."
      ],
      "text/plain": [
       "Correct: \n",
       "\n",
       "When you add booleans, adding `False` is equivalent to adding 0, and adding `True` is equivalent to adding 1."
      ]
     },
     "metadata": {},
     "output_type": "display_data"
    }
   ],
   "source": [
    "# Check your answer (Run this code cell to receive credit!)\n",
    "q4.check()"
   ]
  },
  {
   "cell_type": "markdown",
   "id": "029fa302",
   "metadata": {
    "papermill": {
     "duration": 0.00721,
     "end_time": "2024-07-09T17:20:40.654889",
     "exception": false,
     "start_time": "2024-07-09T17:20:40.647679",
     "status": "completed"
    },
    "tags": []
   },
   "source": [
    "# 🌶️ Question 5\n",
    "\n",
    "You own an online shop where you sell rings with custom engravings.  You offer both gold plated and solid gold rings.\n",
    "- Gold plated rings have a base cost of \\\\$50, and you charge \\\\$7 per engraved unit.  \n",
    "- Solid gold rings have a base cost of \\\\$100, and you charge \\\\$10 per engraved unit.\n",
    "- Spaces and punctuation are counted as engraved units.\n",
    "\n",
    "Write a function `cost_of_project()` that takes two arguments:\n",
    "- `engraving` - a Python string with the text of the engraving\n",
    "- `solid_gold` - a Boolean that indicates whether the ring is solid gold\n",
    "\n",
    "It should return the cost of the project.  This question should be fairly challenging, and you may need a hint."
   ]
  },
  {
   "cell_type": "code",
   "execution_count": 11,
   "id": "2f1120c5",
   "metadata": {
    "execution": {
     "iopub.execute_input": "2024-07-09T17:20:40.671652Z",
     "iopub.status.busy": "2024-07-09T17:20:40.670909Z",
     "iopub.status.idle": "2024-07-09T17:20:40.679819Z",
     "shell.execute_reply": "2024-07-09T17:20:40.678860Z"
    },
    "papermill": {
     "duration": 0.019719,
     "end_time": "2024-07-09T17:20:40.681977",
     "exception": false,
     "start_time": "2024-07-09T17:20:40.662258",
     "status": "completed"
    },
    "tags": []
   },
   "outputs": [
    {
     "data": {
      "application/javascript": [
       "parent.postMessage({\"jupyterEvent\": \"custom.exercise_interaction\", \"data\": {\"outcomeType\": 1, \"valueTowardsCompletion\": 0.2, \"interactionType\": 1, \"questionType\": 2, \"questionId\": \"5_CustomEngravings\", \"learnToolsVersion\": \"0.3.4\", \"failureMessage\": \"\", \"exceptionClass\": \"\", \"trace\": \"\"}}, \"*\")"
      ],
      "text/plain": [
       "<IPython.core.display.Javascript object>"
      ]
     },
     "metadata": {},
     "output_type": "display_data"
    },
    {
     "data": {
      "text/markdown": [
       "<span style=\"color:#33cc33\">Correct</span>"
      ],
      "text/plain": [
       "Correct"
      ]
     },
     "metadata": {},
     "output_type": "display_data"
    }
   ],
   "source": [
    "def cost_of_project(engraving, solid_gold):\n",
    "    if solid_gold:\n",
    "        cost = 100 + 10*len(engraving)\n",
    "    else:\n",
    "        cost = 50 + 7*len(engraving)\n",
    "    return cost\n",
    "\n",
    "#     cost = solid_gold * (100 + 10 * len(engraving)) + (not solid_gold) * (50 + 7 * len(engraving))\n",
    "\n",
    "# Check your answer\n",
    "q5.check()"
   ]
  },
  {
   "cell_type": "code",
   "execution_count": 12,
   "id": "c4d12e22",
   "metadata": {
    "execution": {
     "iopub.execute_input": "2024-07-09T17:20:40.698800Z",
     "iopub.status.busy": "2024-07-09T17:20:40.698424Z",
     "iopub.status.idle": "2024-07-09T17:20:40.702859Z",
     "shell.execute_reply": "2024-07-09T17:20:40.701682Z"
    },
    "papermill": {
     "duration": 0.01548,
     "end_time": "2024-07-09T17:20:40.705178",
     "exception": false,
     "start_time": "2024-07-09T17:20:40.689698",
     "status": "completed"
    },
    "tags": []
   },
   "outputs": [],
   "source": [
    "# Uncomment to see a hint\n",
    "# q5.hint()\n",
    "\n",
    "# Uncomment to view the solution\n",
    "# q5.solution()"
   ]
  },
  {
   "cell_type": "markdown",
   "id": "c1bd6c1e",
   "metadata": {
    "papermill": {
     "duration": 0.007506,
     "end_time": "2024-07-09T17:20:40.720437",
     "exception": false,
     "start_time": "2024-07-09T17:20:40.712931",
     "status": "completed"
    },
    "tags": []
   },
   "source": [
    "Run the next code cell to calculate the cost of engraving `Charlie+Denver` on a solid gold ring."
   ]
  },
  {
   "cell_type": "code",
   "execution_count": 13,
   "id": "00af371e",
   "metadata": {
    "execution": {
     "iopub.execute_input": "2024-07-09T17:20:40.737452Z",
     "iopub.status.busy": "2024-07-09T17:20:40.737099Z",
     "iopub.status.idle": "2024-07-09T17:20:40.742402Z",
     "shell.execute_reply": "2024-07-09T17:20:40.741312Z"
    },
    "papermill": {
     "duration": 0.016444,
     "end_time": "2024-07-09T17:20:40.744601",
     "exception": false,
     "start_time": "2024-07-09T17:20:40.728157",
     "status": "completed"
    },
    "tags": []
   },
   "outputs": [
    {
     "name": "stdout",
     "output_type": "stream",
     "text": [
      "240\n"
     ]
    }
   ],
   "source": [
    "project_one = cost_of_project(\"Charlie+Denver\", True)\n",
    "print(project_one)"
   ]
  },
  {
   "cell_type": "markdown",
   "id": "9e4d8b5b",
   "metadata": {
    "papermill": {
     "duration": 0.007314,
     "end_time": "2024-07-09T17:20:40.759615",
     "exception": false,
     "start_time": "2024-07-09T17:20:40.752301",
     "status": "completed"
    },
    "tags": []
   },
   "source": [
    "Use the next code cell to calculate the cost of engraving `08/10/2000` on a gold plated ring."
   ]
  },
  {
   "cell_type": "code",
   "execution_count": 14,
   "id": "4e1af51c",
   "metadata": {
    "execution": {
     "iopub.execute_input": "2024-07-09T17:20:40.776313Z",
     "iopub.status.busy": "2024-07-09T17:20:40.775965Z",
     "iopub.status.idle": "2024-07-09T17:20:40.781394Z",
     "shell.execute_reply": "2024-07-09T17:20:40.780372Z"
    },
    "papermill": {
     "duration": 0.016598,
     "end_time": "2024-07-09T17:20:40.783665",
     "exception": false,
     "start_time": "2024-07-09T17:20:40.767067",
     "status": "completed"
    },
    "tags": []
   },
   "outputs": [
    {
     "name": "stdout",
     "output_type": "stream",
     "text": [
      "120\n"
     ]
    }
   ],
   "source": [
    "project_two = cost_of_project(\"08/10/2000\", False)\n",
    "print(project_two)"
   ]
  },
  {
   "cell_type": "markdown",
   "id": "8f7c9833",
   "metadata": {
    "papermill": {
     "duration": 0.007728,
     "end_time": "2024-07-09T17:20:40.799483",
     "exception": false,
     "start_time": "2024-07-09T17:20:40.791755",
     "status": "completed"
    },
    "tags": []
   },
   "source": [
    "# Keep going\n",
    "\n",
    "Continue to the next lesson to **[learn about conditions and conditional statements](https://www.kaggle.com/alexisbcook/conditions-and-conditional-statements)**."
   ]
  },
  {
   "cell_type": "markdown",
   "id": "4d4c97e5",
   "metadata": {
    "papermill": {
     "duration": 0.007527,
     "end_time": "2024-07-09T17:20:40.814829",
     "exception": false,
     "start_time": "2024-07-09T17:20:40.807302",
     "status": "completed"
    },
    "tags": []
   },
   "source": [
    "---\n",
    "\n",
    "\n",
    "\n",
    "\n",
    "*Have questions or comments? Visit the [course discussion forum](https://www.kaggle.com/learn/intro-to-programming/discussion) to chat with other learners.*"
   ]
  }
 ],
 "metadata": {
  "kaggle": {
   "accelerator": "none",
   "dataSources": [],
   "isGpuEnabled": false,
   "isInternetEnabled": false,
   "language": "python",
   "sourceType": "notebook"
  },
  "kernelspec": {
   "display_name": "Python 3",
   "language": "python",
   "name": "python3"
  },
  "language_info": {
   "codemirror_mode": {
    "name": "ipython",
    "version": 3
   },
   "file_extension": ".py",
   "mimetype": "text/x-python",
   "name": "python",
   "nbconvert_exporter": "python",
   "pygments_lexer": "ipython3",
   "version": "3.10.13"
  },
  "papermill": {
   "default_parameters": {},
   "duration": 4.44057,
   "end_time": "2024-07-09T17:20:41.242462",
   "environment_variables": {},
   "exception": null,
   "input_path": "__notebook__.ipynb",
   "output_path": "__notebook__.ipynb",
   "parameters": {},
   "start_time": "2024-07-09T17:20:36.801892",
   "version": "2.3.3"
  }
 },
 "nbformat": 4,
 "nbformat_minor": 5
}
